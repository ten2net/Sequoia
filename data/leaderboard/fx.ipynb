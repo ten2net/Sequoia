{
 "cells": [
  {
   "cell_type": "markdown",
   "metadata": {},
   "source": [
    "## 甘州图灵封神榜 2024-05-31 上榜数据分析"
   ]
  },
  {
   "cell_type": "code",
   "execution_count": 1,
   "metadata": {},
   "outputs": [],
   "source": [
    "from IPython.display import Markdown, display\n",
    "import pywencai\n",
    "import pandas as pd\n",
    "from datetime import datetime\n",
    "import akshare as ak\n",
    "\n",
    "import warnings\n",
    "\n",
    "# 忽略所有警告信息\n",
    "warnings.filterwarnings('ignore')"
   ]
  },
  {
   "cell_type": "code",
   "execution_count": 35,
   "metadata": {},
   "outputs": [],
   "source": [
    "data_type ={\n",
    "    '上榜时间': str, \n",
    "    '股票代码': str, \n",
    "    '股票名称': str, \n",
    "    '现价': float, \n",
    "    '涨跌幅': float, \n",
    "    '成交额': float\n",
    "  }\n",
    "\n",
    "df = pd.read_csv(\"2024-05-31.csv\",dtype=data_type)\n",
    "df['date'] = pd.to_datetime(df['上榜时间'])\n",
    "df = df.set_index('date')\n",
    "df\n",
    "df_all=df"
   ]
  },
  {
   "cell_type": "code",
   "execution_count": 3,
   "metadata": {},
   "outputs": [
    {
     "name": "stdout",
     "output_type": "stream",
     "text": [
      "(18, 6)\n"
     ]
    }
   ],
   "source": [
    "# 按'股票代码'分组并计算累计计数\n",
    "df['cumcount'] = df.groupby('股票代码').cumcount()\n",
    "\n",
    "# 筛选出每个股票代码第一次上榜的记录（cumcount为0）\n",
    "df_first_occurrence = df[df['cumcount'] == 0]\n",
    "\n",
    "# 删除辅助列'cumcount'\n",
    "df_first_occurrence.drop(columns=['cumcount'], inplace=True)\n",
    "\n",
    "# 显示结果\n",
    "# print(df_first_occurrence)\n",
    "print(df_first_occurrence.shape)"
   ]
  },
  {
   "cell_type": "code",
   "execution_count": 4,
   "metadata": {},
   "outputs": [
    {
     "name": "stdout",
     "output_type": "stream",
     "text": [
      "                       股票代码  股票名称     现价    涨跌幅   open   high    low  close\n",
      "date                                                                       \n",
      "2023-05-31 09:35:02  002653   海思科  31.64   3.13  31.08  32.29  30.52  30.64\n",
      "2023-05-31 09:38:44  300115  长盈精密  11.19   1.54  11.09  11.66  11.02  11.28\n",
      "2023-05-31 09:38:44  603296  华勤技术  82.98   0.96  83.74  87.00  81.38  85.60\n",
      "2023-05-31 09:38:44  301387  光大同创  43.96  15.71  42.60  45.59  39.94  45.59\n",
      "2023-05-31 09:41:58  603633  徕木股份   8.77   0.23   8.68   9.00   8.65   8.85\n",
      "2023-05-31 09:41:58  300290  荣科科技  12.17  12.69  10.71  12.96  10.71  12.93\n",
      "2023-05-31 09:41:58  300433  蓝思科技  15.31   1.06  15.16  15.54  15.05  15.30\n",
      "2023-05-31 09:41:58  603166  福达股份   6.91   7.30   6.56   7.08   6.05   6.17\n",
      "2023-05-31 09:41:58  603009  北特科技  19.55   2.89  19.00  20.35  18.91  20.19\n",
      "2023-05-31 09:41:58  300956  英力股份  26.80   1.13  25.20  29.96  25.00  29.00\n",
      "2023-05-31 10:29:44  601077  渝农商行   5.18   3.19   5.03   5.18   5.03   5.16\n",
      "2023-05-31 10:29:44  002807  江阴银行   4.14   0.98   4.10   4.15   4.08   4.14\n",
      "2023-05-31 11:02:23  300762  上海瀚讯  18.18   7.19  16.83  19.20  16.73  18.44\n",
      "2023-05-31 11:02:23  300395   菲利华  32.79   4.59  31.28  33.06  31.22  32.15\n",
      "2023-05-31 11:07:54  300447  全信股份  15.03   4.01  14.35  15.36  14.27  14.94\n",
      "2023-05-31 11:07:54  301517  陕西华达  77.02   6.87  69.00  82.88  68.50  75.06\n",
      "2023-05-31 11:07:54  002977  天箭科技  35.07   9.83  33.10  35.12  32.10  34.85\n",
      "2023-05-31 11:07:54  600435  北方导航   9.73   2.53   9.46   9.74   9.39   9.66\n"
     ]
    }
   ],
   "source": [
    "# 获取沪深A股的今日OHLC数据\n",
    "def get_today_ohlc(stock_code):\n",
    "    symbol = f\"sh{stock_code}\" if stock_code[:1] == '6' else f\"sz{stock_code}\"\n",
    "    start_date: str = \"20240530\"\n",
    "    stock_zh_a_daily_df = ak.stock_zh_a_daily(symbol=symbol,start_date=start_date)\n",
    "    if stock_zh_a_daily_df.empty:\n",
    "        return pd.Series([None] * 4, index=['open', 'high', 'low', 'close'])\n",
    "    else:\n",
    "        return stock_zh_a_daily_df.iloc[-1]\n",
    "\n",
    "# 使用apply函数简化循环，并确保返回的Series长度与DataFrame行数匹配\n",
    "ohlc_columns = ['open', 'high', 'low', 'close']\n",
    "df = df_first_occurrence\n",
    "df = df.apply(lambda row: get_today_ohlc(row['股票代码']), axis=1)[ohlc_columns]\n",
    "# print(df)\n",
    "df_first_occurrence = pd.concat([df_first_occurrence, df], axis=1)\n",
    "# 显示更新后的DataFrame\n",
    "print(df_first_occurrence[['股票代码', '股票名称', '现价', '涨跌幅', 'open', 'high', 'low', 'close']])"
   ]
  },
  {
   "cell_type": "markdown",
   "metadata": {},
   "source": [
    "### 计算每笔交易的日收益率"
   ]
  },
  {
   "cell_type": "code",
   "execution_count": 5,
   "metadata": {},
   "outputs": [
    {
     "data": {
      "text/markdown": [
       "| date                |   股票代码 | 股票名称                                                                       |   现价 |   涨跌幅 |   close |   日收益率 |\n",
       "|:--------------------|-----------:|:-------------------------------------------------------------------------------|-------:|---------:|--------:|-----------:|\n",
       "| 2023-05-31 09:35:02 |     002653 | [海思科](https://www.iwencai.com/unifiedwap/result?w=002653&querytype=stock)   |  31.64 |     3.13 |   30.64 |      -3.16 |\n",
       "| 2023-05-31 09:38:44 |     300115 | [长盈精密](https://www.iwencai.com/unifiedwap/result?w=300115&querytype=stock) |  11.19 |     1.54 |   11.28 |       0.8  |\n",
       "| 2023-05-31 09:38:44 |     603296 | [华勤技术](https://www.iwencai.com/unifiedwap/result?w=603296&querytype=stock) |  82.98 |     0.96 |   85.6  |       3.16 |\n",
       "| 2023-05-31 09:38:44 |     301387 | [光大同创](https://www.iwencai.com/unifiedwap/result?w=301387&querytype=stock) |  43.96 |    15.71 |   45.59 |       3.71 |\n",
       "| 2023-05-31 09:41:58 |     603633 | [徕木股份](https://www.iwencai.com/unifiedwap/result?w=603633&querytype=stock) |   8.77 |     0.23 |    8.85 |       0.91 |\n",
       "| 2023-05-31 09:41:58 |     300290 | [荣科科技](https://www.iwencai.com/unifiedwap/result?w=300290&querytype=stock) |  12.17 |    12.69 |   12.93 |       6.24 |\n",
       "| 2023-05-31 09:41:58 |     300433 | [蓝思科技](https://www.iwencai.com/unifiedwap/result?w=300433&querytype=stock) |  15.31 |     1.06 |   15.3  |      -0.07 |\n",
       "| 2023-05-31 09:41:58 |     603166 | [福达股份](https://www.iwencai.com/unifiedwap/result?w=603166&querytype=stock) |   6.91 |     7.3  |    6.17 |     -10.71 |\n",
       "| 2023-05-31 09:41:58 |     603009 | [北特科技](https://www.iwencai.com/unifiedwap/result?w=603009&querytype=stock) |  19.55 |     2.89 |   20.19 |       3.27 |\n",
       "| 2023-05-31 09:41:58 |     300956 | [英力股份](https://www.iwencai.com/unifiedwap/result?w=300956&querytype=stock) |  26.8  |     1.13 |   29    |       8.21 |\n",
       "| 2023-05-31 10:29:44 |     601077 | [渝农商行](https://www.iwencai.com/unifiedwap/result?w=601077&querytype=stock) |   5.18 |     3.19 |    5.16 |      -0.39 |\n",
       "| 2023-05-31 10:29:44 |     002807 | [江阴银行](https://www.iwencai.com/unifiedwap/result?w=002807&querytype=stock) |   4.14 |     0.98 |    4.14 |       0    |\n",
       "| 2023-05-31 11:02:23 |     300762 | [上海瀚讯](https://www.iwencai.com/unifiedwap/result?w=300762&querytype=stock) |  18.18 |     7.19 |   18.44 |       1.43 |\n",
       "| 2023-05-31 11:02:23 |     300395 | [菲利华](https://www.iwencai.com/unifiedwap/result?w=300395&querytype=stock)   |  32.79 |     4.59 |   32.15 |      -1.95 |\n",
       "| 2023-05-31 11:07:54 |     300447 | [全信股份](https://www.iwencai.com/unifiedwap/result?w=300447&querytype=stock) |  15.03 |     4.01 |   14.94 |      -0.6  |\n",
       "| 2023-05-31 11:07:54 |     301517 | [陕西华达](https://www.iwencai.com/unifiedwap/result?w=301517&querytype=stock) |  77.02 |     6.87 |   75.06 |      -2.54 |\n",
       "| 2023-05-31 11:07:54 |     002977 | [天箭科技](https://www.iwencai.com/unifiedwap/result?w=002977&querytype=stock) |  35.07 |     9.83 |   34.85 |      -0.63 |\n",
       "| 2023-05-31 11:07:54 |     600435 | [北方导航](https://www.iwencai.com/unifiedwap/result?w=600435&querytype=stock) |   9.73 |     2.53 |    9.66 |      -0.72 |"
      ],
      "text/plain": [
       "<IPython.core.display.Markdown object>"
      ]
     },
     "metadata": {},
     "output_type": "display_data"
    }
   ],
   "source": [
    "df_first_occurrence['日收益率'] =round(100 * (df_first_occurrence['close'] - df_first_occurrence['现价']) /\n",
    "                                    df_first_occurrence['现价'],2) \n",
    "df = df_first_occurrence[['股票代码', '股票名称', '现价', '涨跌幅',  'close','日收益率']]\n",
    "\n",
    "\n",
    "def create_markdown_link(row):\n",
    "    stock_code = row['股票代码']\n",
    "    stock_name = row['股票名称']\n",
    "    # 构建Markdown超链接字符串\n",
    "    link = f\"[{stock_name}](https://www.iwencai.com/unifiedwap/result?w={stock_code}&querytype=stock)\"\n",
    "    return link\n",
    "\n",
    "# 使用apply函数为股票名称添加Markdown超链接\n",
    "df['股票名称'] = df.apply(lambda row: create_markdown_link(row), axis=1)\n",
    "display(Markdown(df.to_markdown()))\n"
   ]
  },
  {
   "cell_type": "markdown",
   "metadata": {},
   "source": [
    "### 交易情况统计"
   ]
  },
  {
   "cell_type": "code",
   "execution_count": 6,
   "metadata": {},
   "outputs": [
    {
     "name": "stdout",
     "output_type": "stream",
     "text": [
      "总交易次数:  18\n",
      "胜次数:  8\n",
      "亏次数: \n",
      "胜率: 0.44\n",
      "亏率: 0.50\n",
      "当日浮盈: 0.77%\n"
     ]
    }
   ],
   "source": [
    "# 筛选出盈利和亏损的股票\n",
    "df_profit = df_first_occurrence[df_first_occurrence['close'] > df_first_occurrence['现价']]\n",
    "df_loss = df_first_occurrence[df_first_occurrence['close'] < df_first_occurrence['现价']]\n",
    "\n",
    "# 计算胜率和亏率\n",
    "total_trades = len(df_first_occurrence)\n",
    "profit_trades = len(df_profit)\n",
    "loss_trades = len(df_loss)\n",
    "\n",
    "win_rate = profit_trades / total_trades\n",
    "loss_rate = loss_trades / total_trades\n",
    "\n",
    "print(\"总交易次数: \", total_trades)\n",
    "print(\"胜次数: \", profit_trades)\n",
    "print(\"亏次数: \", )\n",
    "print(f\"胜率: {win_rate:.2f}\")\n",
    "print(f\"亏率: {loss_rate:.2f}\")\n",
    "\n",
    "\n",
    "# 计算总成本和总收益\n",
    "total_cost = df_first_occurrence['现价'].sum()\n",
    "total_revenue = df_first_occurrence['close'].sum()\n",
    "\n",
    "# 计算总体收益率\n",
    "overall_return = ((total_revenue - total_cost) / total_cost) * 100\n",
    "\n",
    "print(f\"当日浮盈: {overall_return:.2f}%\")"
   ]
  },
  {
   "cell_type": "code",
   "execution_count": 7,
   "metadata": {},
   "outputs": [
    {
     "data": {
      "text/html": [
       "<div>\n",
       "<style scoped>\n",
       "    .dataframe tbody tr th:only-of-type {\n",
       "        vertical-align: middle;\n",
       "    }\n",
       "\n",
       "    .dataframe tbody tr th {\n",
       "        vertical-align: top;\n",
       "    }\n",
       "\n",
       "    .dataframe thead th {\n",
       "        text-align: right;\n",
       "    }\n",
       "</style>\n",
       "<table border=\"1\" class=\"dataframe\">\n",
       "  <thead>\n",
       "    <tr style=\"text-align: right;\">\n",
       "      <th></th>\n",
       "      <th>上榜时间</th>\n",
       "      <th>股票代码</th>\n",
       "      <th>股票名称</th>\n",
       "      <th>现价</th>\n",
       "      <th>涨跌幅</th>\n",
       "      <th>成交额</th>\n",
       "      <th>cumcount</th>\n",
       "    </tr>\n",
       "    <tr>\n",
       "      <th>date</th>\n",
       "      <th></th>\n",
       "      <th></th>\n",
       "      <th></th>\n",
       "      <th></th>\n",
       "      <th></th>\n",
       "      <th></th>\n",
       "      <th></th>\n",
       "    </tr>\n",
       "  </thead>\n",
       "  <tbody>\n",
       "    <tr>\n",
       "      <th>2023-05-31 09:35:02</th>\n",
       "      <td>2023-05-31 09:35:02</td>\n",
       "      <td>002653</td>\n",
       "      <td>海思科</td>\n",
       "      <td>31.64</td>\n",
       "      <td>3.13</td>\n",
       "      <td>1947.63</td>\n",
       "      <td>0</td>\n",
       "    </tr>\n",
       "    <tr>\n",
       "      <th>2023-05-31 09:38:44</th>\n",
       "      <td>2023-05-31 09:38:44</td>\n",
       "      <td>300115</td>\n",
       "      <td>长盈精密</td>\n",
       "      <td>11.19</td>\n",
       "      <td>1.54</td>\n",
       "      <td>9342.60</td>\n",
       "      <td>0</td>\n",
       "    </tr>\n",
       "    <tr>\n",
       "      <th>2023-05-31 09:38:44</th>\n",
       "      <td>2023-05-31 09:38:44</td>\n",
       "      <td>603296</td>\n",
       "      <td>华勤技术</td>\n",
       "      <td>82.98</td>\n",
       "      <td>0.96</td>\n",
       "      <td>4155.67</td>\n",
       "      <td>0</td>\n",
       "    </tr>\n",
       "    <tr>\n",
       "      <th>2023-05-31 09:38:44</th>\n",
       "      <td>2023-05-31 09:38:44</td>\n",
       "      <td>301387</td>\n",
       "      <td>光大同创</td>\n",
       "      <td>43.96</td>\n",
       "      <td>15.71</td>\n",
       "      <td>24006.27</td>\n",
       "      <td>0</td>\n",
       "    </tr>\n",
       "    <tr>\n",
       "      <th>2023-05-31 09:41:58</th>\n",
       "      <td>2023-05-31 09:41:58</td>\n",
       "      <td>603633</td>\n",
       "      <td>徕木股份</td>\n",
       "      <td>8.77</td>\n",
       "      <td>0.23</td>\n",
       "      <td>3165.84</td>\n",
       "      <td>0</td>\n",
       "    </tr>\n",
       "    <tr>\n",
       "      <th>...</th>\n",
       "      <td>...</td>\n",
       "      <td>...</td>\n",
       "      <td>...</td>\n",
       "      <td>...</td>\n",
       "      <td>...</td>\n",
       "      <td>...</td>\n",
       "      <td>...</td>\n",
       "    </tr>\n",
       "    <tr>\n",
       "      <th>2023-05-31 14:58:13</th>\n",
       "      <td>2023-05-31 14:58:13</td>\n",
       "      <td>002977</td>\n",
       "      <td>天箭科技</td>\n",
       "      <td>34.93</td>\n",
       "      <td>9.40</td>\n",
       "      <td>53812.02</td>\n",
       "      <td>23</td>\n",
       "    </tr>\n",
       "    <tr>\n",
       "      <th>2023-05-31 14:58:13</th>\n",
       "      <td>2023-05-31 14:58:13</td>\n",
       "      <td>300762</td>\n",
       "      <td>上海瀚讯</td>\n",
       "      <td>18.41</td>\n",
       "      <td>8.55</td>\n",
       "      <td>173793.10</td>\n",
       "      <td>24</td>\n",
       "    </tr>\n",
       "    <tr>\n",
       "      <th>2023-05-31 14:58:13</th>\n",
       "      <td>2023-05-31 14:58:13</td>\n",
       "      <td>301517</td>\n",
       "      <td>陕西华达</td>\n",
       "      <td>75.02</td>\n",
       "      <td>4.09</td>\n",
       "      <td>116047.14</td>\n",
       "      <td>1</td>\n",
       "    </tr>\n",
       "    <tr>\n",
       "      <th>2023-05-31 14:58:13</th>\n",
       "      <td>2023-05-31 14:58:13</td>\n",
       "      <td>300115</td>\n",
       "      <td>长盈精密</td>\n",
       "      <td>11.27</td>\n",
       "      <td>2.27</td>\n",
       "      <td>100104.18</td>\n",
       "      <td>36</td>\n",
       "    </tr>\n",
       "    <tr>\n",
       "      <th>2023-05-31 14:58:13</th>\n",
       "      <td>2023-05-31 14:58:13</td>\n",
       "      <td>300433</td>\n",
       "      <td>蓝思科技</td>\n",
       "      <td>15.29</td>\n",
       "      <td>0.92</td>\n",
       "      <td>53973.23</td>\n",
       "      <td>35</td>\n",
       "    </tr>\n",
       "  </tbody>\n",
       "</table>\n",
       "<p>246 rows × 7 columns</p>\n",
       "</div>"
      ],
      "text/plain": [
       "                                    上榜时间    股票代码  股票名称     现价    涨跌幅  \\\n",
       "date                                                                   \n",
       "2023-05-31 09:35:02  2023-05-31 09:35:02  002653   海思科  31.64   3.13   \n",
       "2023-05-31 09:38:44  2023-05-31 09:38:44  300115  长盈精密  11.19   1.54   \n",
       "2023-05-31 09:38:44  2023-05-31 09:38:44  603296  华勤技术  82.98   0.96   \n",
       "2023-05-31 09:38:44  2023-05-31 09:38:44  301387  光大同创  43.96  15.71   \n",
       "2023-05-31 09:41:58  2023-05-31 09:41:58  603633  徕木股份   8.77   0.23   \n",
       "...                                  ...     ...   ...    ...    ...   \n",
       "2023-05-31 14:58:13  2023-05-31 14:58:13  002977  天箭科技  34.93   9.40   \n",
       "2023-05-31 14:58:13  2023-05-31 14:58:13  300762  上海瀚讯  18.41   8.55   \n",
       "2023-05-31 14:58:13  2023-05-31 14:58:13  301517  陕西华达  75.02   4.09   \n",
       "2023-05-31 14:58:13  2023-05-31 14:58:13  300115  长盈精密  11.27   2.27   \n",
       "2023-05-31 14:58:13  2023-05-31 14:58:13  300433  蓝思科技  15.29   0.92   \n",
       "\n",
       "                           成交额  cumcount  \n",
       "date                                      \n",
       "2023-05-31 09:35:02    1947.63         0  \n",
       "2023-05-31 09:38:44    9342.60         0  \n",
       "2023-05-31 09:38:44    4155.67         0  \n",
       "2023-05-31 09:38:44   24006.27         0  \n",
       "2023-05-31 09:41:58    3165.84         0  \n",
       "...                        ...       ...  \n",
       "2023-05-31 14:58:13   53812.02        23  \n",
       "2023-05-31 14:58:13  173793.10        24  \n",
       "2023-05-31 14:58:13  116047.14         1  \n",
       "2023-05-31 14:58:13  100104.18        36  \n",
       "2023-05-31 14:58:13   53973.23        35  \n",
       "\n",
       "[246 rows x 7 columns]"
      ]
     },
     "execution_count": 7,
     "metadata": {},
     "output_type": "execute_result"
    }
   ],
   "source": [
    "# 按'股票代码'分组并计算累计计数\n",
    "df_all['cumcount'] = df_all.groupby('股票代码').cumcount()\n",
    "df_all"
   ]
  },
  {
   "cell_type": "code",
   "execution_count": 8,
   "metadata": {},
   "outputs": [],
   "source": [
    "import matplotlib.pyplot as plt\n",
    "plt.rcParams[\"font.serif\"] = [\"SimHei\"]\n",
    "plt.rcParams[\"axes.unicode_minus\"] = False\n",
    "# plt.rcParams['axes.formatter.use_locale'] - False\n",
    "# print(matplotlib.matplotlib_fname())"
   ]
  },
  {
   "cell_type": "code",
   "execution_count": 16,
   "metadata": {},
   "outputs": [
    {
     "data": {
      "image/png": "[encoded data removed]",
      "text/plain": [
       "<Figure size 1600x300 with 1 Axes>"
      ]
     },
     "metadata": {},
     "output_type": "display_data"
    }
   ],
   "source": [
    "\n",
    "\n",
    "\n",
    "# 绘制柱状图\n",
    "fig1 = plt.figure(figsize=(16, 3))\n",
    "plt.bar(df_all['股票名称'], df_all['cumcount'])\n",
    "\n",
    "# 添加标题和标签\n",
    "plt.title('甘州图灵封神榜上榜次数统计图-31/5')\n",
    "# plt.xlabel('Category')\n",
    "plt.ylabel('当天上榜次数')\n",
    "# 显示图例\n",
    "plt.xticks(rotation=45) \n",
    "# ax2.legend()\n",
    "\n",
    "# # 优化label显示,非必须\n",
    "# plt.autofmt_xdate()\n",
    "# fig2.autofmt_xdate()\n",
    "# 显示图表\n",
    "plt.show()"
   ]
  },
  {
   "cell_type": "code",
   "execution_count": 17,
   "metadata": {},
   "outputs": [
    {
     "data": {
      "image/png": "[encoded data removed]",
      "text/plain": [
       "<Figure size 640x480 with 1 Axes>"
      ]
     },
     "metadata": {},
     "output_type": "display_data"
    }
   ],
   "source": [
    "data = [1, 2, 2, 3, 3, 3, 4, 4, 4, 4]  # 具体的观测值列表\n",
    "data = df_all['cumcount'].to_list()\n",
    "plt.hist(data, bins='auto', color='green', edgecolor='black')\n",
    "# 其他绘图设置保持不变\n",
    "plt.title('Frequency Histogram of Specific Data')\n",
    "plt.xlabel('Value')\n",
    "plt.ylabel('Frequency')\n",
    "plt.show()"
   ]
  },
  {
   "cell_type": "code",
   "execution_count": 21,
   "metadata": {},
   "outputs": [
    {
     "data": {
      "text/plain": [
       "<Axes: xlabel='Hour'>"
      ]
     },
     "execution_count": 21,
     "metadata": {},
     "output_type": "execute_result"
    },
    {
     "data": {
      "image/png": "[encoded data removed]",
      "text/plain": [
       "<Figure size 1000x600 with 1 Axes>"
      ]
     },
     "metadata": {},
     "output_type": "display_data"
    }
   ],
   "source": [
    "# 将时间分为时段，例如每小时\n",
    "df_all['Hour'] = df_all.index.floor('H')  # 按小时分段\n",
    "# print(df_all)\n",
    "\n",
    "# 计算每个时段出现的次数\n",
    "time_segment_counts = df_all.groupby('Hour').size()\n",
    "\n",
    "# 绘制柱状图\n",
    "plt.figure(figsize=(10, 6))  # 设置图形大小\n",
    "time_segment_counts.plot(kind='bar', color='skyblue')  # 绘制柱状图"
   ]
  },
  {
   "cell_type": "code",
   "execution_count": 44,
   "metadata": {},
   "outputs": [
    {
     "data": {
      "text/plain": [
       "<Axes: xlabel='Hour'>"
      ]
     },
     "execution_count": 44,
     "metadata": {},
     "output_type": "execute_result"
    },
    {
     "data": {
      "image/png": "[encoded data removed]",
      "text/plain": [
       "<Figure size 400x300 with 1 Axes>"
      ]
     },
     "metadata": {},
     "output_type": "display_data"
    }
   ],
   "source": [
    "# 将时间分为时段，例如按小时\n",
    "# df_all.index = df_all.index.normalize()  # 将时间戳转换为00:00:00的日期\n",
    "\n",
    "# 创建一个时间段作为分组的依据，例如每小时\n",
    "df_all['Hour'] = df_all.index.map(lambda x: x.hour)\n",
    "# print(df_all )\n",
    "# 将时间分为时段，例如每小时\n",
    "# df_all['Hour'] = df_all.index.floor('H')  # 按小时分段\n",
    "# print(df_all)\n",
    "\n",
    "# 计算每个时段出现的次数\n",
    "time_segment_counts = df_all.groupby('Hour').size()\n",
    "\n",
    "# 绘制柱状图\n",
    "plt.figure(figsize=(4, 3))  # 设置图形大小\n",
    "time_segment_counts.plot(kind='bar', width=0.3, color='skyblue')  # 绘制柱状图"
   ]
  },
  {
   "cell_type": "code",
   "execution_count": 46,
   "metadata": {},
   "outputs": [],
   "source": [
    "def get_stock_market(stock_code):\n",
    "    if stock_code.startswith(('60', '68')):\n",
    "        return \"SH\"\n",
    "    elif stock_code.startswith(('0', '3')):\n",
    "        return \"SZ\"\n",
    "    elif stock_code.startswith(('4', '8')):\n",
    "        return \"BJ\"\n",
    "    else:\n",
    "        return \"Unknown\""
   ]
  },
  {
   "cell_type": "code",
   "execution_count": 63,
   "metadata": {},
   "outputs": [],
   "source": [
    "stock_code ='300379' # df_all[:1]['股票代码'].to_list()[0]\n",
    "venue = get_stock_market(stock_code)\n"
   ]
  },
  {
   "cell_type": "code",
   "execution_count": 64,
   "metadata": {},
   "outputs": [
    {
     "name": "stdout",
     "output_type": "stream",
     "text": [
      "sz300379\n",
      "sz300379 股票数据不存在，请检查是否已退市\n"
     ]
    }
   ],
   "source": [
    "symbol = f\"{venue.lower()}{stock_code}\"\n",
    "print(symbol)\n",
    "stock_zh_a_minute_df = ak.stock_zh_a_minute(\n",
    "    symbol=symbol, period='5', adjust='hfq')\n",
    "# stock_zh_a_minute_df[['open', 'high', 'low', 'close']] = stock_zh_a_minute_df[[\n",
    "#     'open', 'high', 'low', 'close']].round(3)"
   ]
  }
 ],
 "metadata": {
  "kernelspec": {
   "display_name": "sequoia39",
   "language": "python",
   "name": "python3"
  },
  "language_info": {
   "codemirror_mode": {
    "name": "ipython",
    "version": 3
   },
   "file_extension": ".py",
   "mimetype": "text/x-python",
   "name": "python",
   "nbconvert_exporter": "python",
   "pygments_lexer": "ipython3",
   "version": "3.9.19"
  }
 },
 "nbformat": 4,
 "nbformat_minor": 2
}

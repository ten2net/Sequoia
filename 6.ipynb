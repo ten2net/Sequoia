{
 "cells": [
  {
   "cell_type": "code",
   "execution_count": 1,
   "metadata": {},
   "outputs": [],
   "source": [
    "import pandas as pd\n",
    "import pandas_ta as ta\n",
    "import numpy as np\n",
    "import akshare as ak\n",
    "from datetime import datetime, timedelta\n",
    "from IPython.display import Markdown\n",
    "\n",
    "pd.set_option('display.width',3000)\n",
    "pd.set_option('display.max_columns',100)\n",
    "pd.set_option('display.html.table.schema',True)\n"
   ]
  },
  {
   "cell_type": "code",
   "execution_count": 40,
   "metadata": {},
   "outputs": [],
   "source": [
    "def load_data_932(symbol):\n",
    "    df = ak.stock_zh_a_hist_pre_min_em(\n",
    "        symbol=symbol, start_time=\"09:00:00\", end_time=\"09:32:00\")\n",
    "#   print(df)\n",
    "    df['时间'] = pd.to_datetime(df['时间'])\n",
    "    df[\"Open\"] = df.开盘\n",
    "    df[\"High\"] = df.最高\n",
    "    df[\"Low\"] = df.最低\n",
    "    df[\"Close\"] = df.收盘\n",
    "    df[\"Volume\"] = df.成交量\n",
    "    df = df.set_index('时间', drop=False)\n",
    "    df[\"Time\"] = df.index.strftime('%H:%M')\n",
    "    df = df[['Time', 'Open',  'High',    'Low', 'Close', 'Volume']]\n",
    "    # df = df[df.Volume.astype(float) >0]\n",
    "    df = df[df.Volume > 0]\n",
    "    return df\n",
    "\n",
    "# 模块2: 指标计算\n",
    "\n",
    "\n",
    "def calculate_indicators(df):\n",
    "    df['ROC'] = ta.roc(close=df.Close, length=2)\n",
    "    df['SLOPE'] = ta.slope(close=df.Close, length=2)\n",
    "    df['CMF'] = ta.cmf(open=df.Open, high=df.High, low=df.Low,\n",
    "                       close=df.Close, volume=df.Volume, length=2)  # 柴金资金流量指标\n",
    "    df['OBV'] = ta.obv(close=df.Close, volume=df.Volume)  # 能量潮指标\n",
    "    return df\n",
    "# 模块3: 顶背离识别和背离程度计算\n",
    "\n",
    "\n",
    "def identify_top_divergence(df, price_col, indicator_col):\n",
    "    top_divergences = df[(df[price_col] > df[price_col].shift(1)) &\n",
    "                         (df[indicator_col] < df[indicator_col].shift(1))]\n",
    "    # return len(top_divergences)>0,\n",
    "    # top_divergences['Divergence_Degree'] = top_divergences[price_col].diff() - top_divergences[indicator_col].diff()\n",
    "    return top_divergences\n",
    "\n",
    "# 模块4: 底背离识别和背离程度计算\n",
    "\n",
    "\n",
    "def identify_bottom_divergence(df, price_col, indicator_col):\n",
    "    bottom_divergences = df[(df[price_col] < df[price_col].shift(1)) &\n",
    "                            (df[indicator_col] > df[indicator_col].shift(1))]\n",
    "    # print(\"bottom\",bottom_divergences)\n",
    "    # bottom_divergences['Divergence_Degree'] = bottom_divergences[indicator_col].diff() - bottom_divergences[price_col].diff()\n",
    "    return bottom_divergences"
   ]
  },
  {
   "cell_type": "code",
   "execution_count": 54,
   "metadata": {},
   "outputs": [
    {
     "name": "stdout",
     "output_type": "stream",
     "text": [
      "                      Time   Open   High    Low  Close  Volume       ROC  SLOPE       CMF      OBV   degrees\n",
      "时间                                                                                                          \n",
      "2024-07-16 09:26:00  09:26  12.25  12.25  12.25  12.25    4932       NaN    NaN       NaN   4932.0       NaN\n",
      "2024-07-16 09:31:00  09:31  12.27  12.30  12.17  12.26   17448       NaN    NaN  0.299856  22380.0       NaN\n",
      "2024-07-16 09:32:00  09:32  12.24  12.32  12.23  12.31    9040  0.489796   0.03  0.518796  31420.0  1.718873\n",
      "                      Time   Open   High    Low  Close  Volume       ROC  SLOPE       CMF      OBV   degrees\n",
      "时间                                                                                                          \n",
      "2024-07-16 09:32:00  09:32  12.24  12.32  12.23  12.31    9040  0.489796   0.03  0.518796  31420.0  1.718873\n",
      "Empty DataFrame\n",
      "Columns: [Time, Open, High, Low, Close, Volume, ROC, SLOPE, CMF, OBV, degrees]\n",
      "Index: []\n"
     ]
    }
   ],
   "source": [
    "import math\n",
    "degrees = 30\n",
    "radians = math.radians(degrees)\n",
    "math.tan(radians)\n",
    "# data = load_data_932('300141')\n",
    "data = load_data_932('300207')\n",
    "data = load_data_932('300115')\n",
    "data = calculate_indicators(data)\n",
    "data['degrees'] = data['SLOPE'].apply(math.degrees)\n",
    "top_roc_divergences = identify_top_divergence(data, 'CMF', 'Volume')\n",
    "bottom_roc_divergences = identify_bottom_divergence(data, 'CMF', 'Volume')\n",
    "print(data)\n",
    "print(top_roc_divergences)\n",
    "print(bottom_roc_divergences)\n"
   ]
  },
  {
   "cell_type": "code",
   "execution_count": 88,
   "metadata": {},
   "outputs": [
    {
     "name": "stdout",
     "output_type": "stream",
     "text": [
      "                      Time   Open   High    Low  Close  Volume       ROC       CMF      OBV    roc_me    cmf_me\n",
      "时间                                                                                                             \n",
      "2024-07-12 09:26:00  09:26  14.82  14.82  14.82  14.82   12322       NaN  0.000000  12322.0       NaN       NaN\n",
      "2024-07-12 09:31:00  09:31  14.78  15.13  14.41  14.49   42459 -2.226721 -0.777778 -30137.0 -2.226721 -14011.47\n",
      "2024-07-12 09:32:00  09:32  14.49  15.46  14.49  15.46   33856  6.694272  1.000000   3719.0  6.694272  32840.32\n"
     ]
    }
   ],
   "source": [
    "# data[\"roc_me\"] = 100 * (data.Close - data.Close.shift(1)) / data.Close.shift(1)\n",
    "# data[\"cmf_me\"] = (data.Close - data.Close.shift(1))* data.Volume\n",
    "# # data[\"cmf_me_2\"] = (data.Open+data.High+data.Low+data.Close) / data.Open.shift(1)+data.High.shift(1)+data.Low.shift(1)+data.Close.shift(1)\n",
    "# print(data)"
   ]
  },
  {
   "cell_type": "code",
   "execution_count": 17,
   "metadata": {},
   "outputs": [
    {
     "data": {
      "text/markdown": [
       "| Time   |   Open |   High |   Low |   Close |   Volume |   代码 | 名称     | 走势     |       ROC |       CMF |    OBV | top_roc_divergences   | bottom_roc_divergences   |\n",
       "|:-------|-------:|-------:|------:|--------:|---------:|-------:|:---------|:---------|----------:|----------:|-------:|:----------------------|:-------------------------|\n",
       "| 09:32  |  48.49 |  49.48 | 48.49 |   49.28 |     8621 | 300114 | 中航电测 | 冲高回落 |  2.77372  |  0.811799 |  26054 | True                  | False                    |\n",
       "| 09:32  |   4.79 |   5.24 |  4.79 |    5.18 |    31468 | 300391 | 长药控股 | 冲高回落 |  9.2827   |  0.525408 | 116688 | True                  | False                    |\n",
       "| 09:32  |   8.74 |   8.99 |  8.74 |    8.9  |    13179 | 300141 | 和顺电气 | 冲高回落 |  3.7296   |  0.161222 |  39732 | True                  | False                    |\n",
       "| 09:32  |  17.32 |  17.82 | 17.28 |   17.66 |    24485 | 300713 | 英可瑞   | 高举高打 |  3.88235  |  0.109174 |  81909 | True                  | False                    |\n",
       "| 09:32  |   9.41 |   9.74 |  9.39 |    9.7  |    79577 | 600686 | 金龙汽车 | 跟风涨停 |  1.04167  | -0.127152 | -21613 | True                  | False                    |\n",
       "| 09:32  |   7.25 |   7.49 |  7.25 |    7.48 |    75798 | 300177 | 中海达   | 震荡     |  3.88889  | -0.219677 | 219803 | True                  | False                    |\n",
       "| 09:32  |  13.01 |  13.4  | 13.01 |   13.25 |    15461 | 603386 | 骏亚科技 | 冲高回落 |  0.302801 | -0.503135 |  -1245 | True                  | False                    |\n",
       "| 09:32  |  27.39 |  27.41 | 26.68 |   26.79 |    31654 | 300641 | 正丹股份 | 冲高回落 | -3.42466  | -0.507198 | -59978 | False                 | False                    |\n",
       "| 09:32  |  10.46 |  10.46 | 10.35 |   10.37 |     8488 | 002534 | 西子节能 | 偷偷大涨 | -5.89837  | -0.814695 | -23820 | False                 | False                    |\n",
       "| 09:32  |  57.25 |  58.15 | 57.23 |   57.52 |     3866 | 300763 | 锦浪科技 | 偷偷大涨 | -0.173551 | -0.831334 |  -3902 | False                 | False                    |"
      ],
      "text/plain": [
       "<IPython.core.display.Markdown object>"
      ]
     },
     "metadata": {},
     "output_type": "display_data"
    },
    {
     "data": {
      "application/vnd.dataresource+json": {
       "data": [
        {
         "CMF": 0.8117985561,
         "Close": 49.28,
         "High": 49.48,
         "Low": 48.49,
         "OBV": 26054,
         "Open": 48.49,
         "ROC": 2.7737226277,
         "Time": "09:32",
         "Volume": 8621,
         "bottom_roc_divergences": false,
         "top_roc_divergences": true,
         "代码": "300114",
         "名称": "中航电测",
         "时间": "2024-07-15T09:32:00.000",
         "走势": "冲高回落"
        },
        {
         "CMF": 0.5254077948,
         "Close": 5.18,
         "High": 5.24,
         "Low": 4.79,
         "OBV": 116688,
         "Open": 4.79,
         "ROC": 9.2827004219,
         "Time": "09:32",
         "Volume": 31468,
         "bottom_roc_divergences": false,
         "top_roc_divergences": true,
         "代码": "300391",
         "名称": "长药控股",
         "时间": "2024-07-15T09:32:00.000",
         "走势": "冲高回落"
        },
        {
         "CMF": 0.1612223457,
         "Close": 8.9,
         "High": 8.99,
         "Low": 8.74,
         "OBV": 39732,
         "Open": 8.74,
         "ROC": 3.7296037296,
         "Time": "09:32",
         "Volume": 13179,
         "bottom_roc_divergences": false,
         "top_roc_divergences": true,
         "代码": "300141",
         "名称": "和顺电气",
         "时间": "2024-07-15T09:32:00.000",
         "走势": "冲高回落"
        },
        {
         "CMF": 0.1091743175,
         "Close": 17.66,
         "High": 17.82,
         "Low": 17.28,
         "OBV": 81909,
         "Open": 17.32,
         "ROC": 3.8823529412,
         "Time": "09:32",
         "Volume": 24485,
         "bottom_roc_divergences": false,
         "top_roc_divergences": true,
         "代码": "300713",
         "名称": "英可瑞",
         "时间": "2024-07-15T09:32:00.000",
         "走势": "高举高打"
        },
        {
         "CMF": -0.1271524015,
         "Close": 9.7,
         "High": 9.74,
         "Low": 9.39,
         "OBV": -21613,
         "Open": 9.41,
         "ROC": 1.0416666667,
         "Time": "09:32",
         "Volume": 79577,
         "bottom_roc_divergences": false,
         "top_roc_divergences": true,
         "代码": "600686",
         "名称": "金龙汽车",
         "时间": "2024-07-15T09:32:00.000",
         "走势": "跟风涨停"
        },
        {
         "CMF": -0.2196771938,
         "Close": 7.48,
         "High": 7.49,
         "Low": 7.25,
         "OBV": 219803,
         "Open": 7.25,
         "ROC": 3.8888888889,
         "Time": "09:32",
         "Volume": 75798,
         "bottom_roc_divergences": false,
         "top_roc_divergences": true,
         "代码": "300177",
         "名称": "中海达",
         "时间": "2024-07-15T09:32:00.000",
         "走势": "震荡"
        },
        {
         "CMF": -0.5031349609,
         "Close": 13.25,
         "High": 13.4,
         "Low": 13.01,
         "OBV": -1245,
         "Open": 13.01,
         "ROC": 0.3028009084,
         "Time": "09:32",
         "Volume": 15461,
         "bottom_roc_divergences": false,
         "top_roc_divergences": true,
         "代码": "603386",
         "名称": "骏亚科技",
         "时间": "2024-07-15T09:32:00.000",
         "走势": "冲高回落"
        },
        {
         "CMF": -0.5071984811,
         "Close": 26.79,
         "High": 27.41,
         "Low": 26.68,
         "OBV": -59978,
         "Open": 27.39,
         "ROC": -3.4246575342,
         "Time": "09:32",
         "Volume": 31654,
         "bottom_roc_divergences": false,
         "top_roc_divergences": false,
         "代码": "300641",
         "名称": "正丹股份",
         "时间": "2024-07-15T09:32:00.000",
         "走势": "冲高回落"
        },
        {
         "CMF": -0.8146948052,
         "Close": 10.37,
         "High": 10.46,
         "Low": 10.35,
         "OBV": -23820,
         "Open": 10.46,
         "ROC": -5.8983666062,
         "Time": "09:32",
         "Volume": 8488,
         "bottom_roc_divergences": false,
         "top_roc_divergences": false,
         "代码": "002534",
         "名称": "西子节能",
         "时间": "2024-07-15T09:32:00.000",
         "走势": "偷偷大涨"
        },
        {
         "CMF": -0.8313336619,
         "Close": 57.52,
         "High": 58.15,
         "Low": 57.23,
         "OBV": -3902,
         "Open": 57.25,
         "ROC": -0.1735508504,
         "Time": "09:32",
         "Volume": 3866,
         "bottom_roc_divergences": false,
         "top_roc_divergences": false,
         "代码": "300763",
         "名称": "锦浪科技",
         "时间": "2024-07-15T09:32:00.000",
         "走势": "偷偷大涨"
        }
       ],
       "schema": {
        "fields": [
         {
          "name": "时间",
          "type": "datetime"
         },
         {
          "name": "Time",
          "type": "string"
         },
         {
          "name": "Open",
          "type": "number"
         },
         {
          "name": "High",
          "type": "number"
         },
         {
          "name": "Low",
          "type": "number"
         },
         {
          "name": "Close",
          "type": "number"
         },
         {
          "name": "Volume",
          "type": "integer"
         },
         {
          "name": "代码",
          "type": "string"
         },
         {
          "name": "名称",
          "type": "string"
         },
         {
          "name": "走势",
          "type": "string"
         },
         {
          "name": "ROC",
          "type": "number"
         },
         {
          "name": "CMF",
          "type": "number"
         },
         {
          "name": "OBV",
          "type": "number"
         },
         {
          "name": "top_roc_divergences",
          "type": "boolean"
         },
         {
          "name": "bottom_roc_divergences",
          "type": "boolean"
         }
        ],
        "pandas_version": "1.4.0"
       }
      },
      "text/html": [
       "<div>\n",
       "<style scoped>\n",
       "    .dataframe tbody tr th:only-of-type {\n",
       "        vertical-align: middle;\n",
       "    }\n",
       "\n",
       "    .dataframe tbody tr th {\n",
       "        vertical-align: top;\n",
       "    }\n",
       "\n",
       "    .dataframe thead th {\n",
       "        text-align: right;\n",
       "    }\n",
       "</style>\n",
       "<table border=\"1\" class=\"dataframe\">\n",
       "  <thead>\n",
       "    <tr style=\"text-align: right;\">\n",
       "      <th></th>\n",
       "      <th>Time</th>\n",
       "      <th>Open</th>\n",
       "      <th>High</th>\n",
       "      <th>Low</th>\n",
       "      <th>Close</th>\n",
       "      <th>Volume</th>\n",
       "      <th>代码</th>\n",
       "      <th>名称</th>\n",
       "      <th>走势</th>\n",
       "      <th>ROC</th>\n",
       "      <th>CMF</th>\n",
       "      <th>OBV</th>\n",
       "      <th>top_roc_divergences</th>\n",
       "      <th>bottom_roc_divergences</th>\n",
       "    </tr>\n",
       "    <tr>\n",
       "      <th>时间</th>\n",
       "      <th></th>\n",
       "      <th></th>\n",
       "      <th></th>\n",
       "      <th></th>\n",
       "      <th></th>\n",
       "      <th></th>\n",
       "      <th></th>\n",
       "      <th></th>\n",
       "      <th></th>\n",
       "      <th></th>\n",
       "      <th></th>\n",
       "      <th></th>\n",
       "      <th></th>\n",
       "      <th></th>\n",
       "    </tr>\n",
       "  </thead>\n",
       "  <tbody>\n",
       "    <tr>\n",
       "      <th>2024-07-15 09:32:00</th>\n",
       "      <td>09:32</td>\n",
       "      <td>48.49</td>\n",
       "      <td>49.48</td>\n",
       "      <td>48.49</td>\n",
       "      <td>49.28</td>\n",
       "      <td>8621</td>\n",
       "      <td>300114</td>\n",
       "      <td>中航电测</td>\n",
       "      <td>冲高回落</td>\n",
       "      <td>2.773723</td>\n",
       "      <td>0.811799</td>\n",
       "      <td>26054.0</td>\n",
       "      <td>True</td>\n",
       "      <td>False</td>\n",
       "    </tr>\n",
       "    <tr>\n",
       "      <th>2024-07-15 09:32:00</th>\n",
       "      <td>09:32</td>\n",
       "      <td>4.79</td>\n",
       "      <td>5.24</td>\n",
       "      <td>4.79</td>\n",
       "      <td>5.18</td>\n",
       "      <td>31468</td>\n",
       "      <td>300391</td>\n",
       "      <td>长药控股</td>\n",
       "      <td>冲高回落</td>\n",
       "      <td>9.282700</td>\n",
       "      <td>0.525408</td>\n",
       "      <td>116688.0</td>\n",
       "      <td>True</td>\n",
       "      <td>False</td>\n",
       "    </tr>\n",
       "    <tr>\n",
       "      <th>2024-07-15 09:32:00</th>\n",
       "      <td>09:32</td>\n",
       "      <td>8.74</td>\n",
       "      <td>8.99</td>\n",
       "      <td>8.74</td>\n",
       "      <td>8.90</td>\n",
       "      <td>13179</td>\n",
       "      <td>300141</td>\n",
       "      <td>和顺电气</td>\n",
       "      <td>冲高回落</td>\n",
       "      <td>3.729604</td>\n",
       "      <td>0.161222</td>\n",
       "      <td>39732.0</td>\n",
       "      <td>True</td>\n",
       "      <td>False</td>\n",
       "    </tr>\n",
       "    <tr>\n",
       "      <th>2024-07-15 09:32:00</th>\n",
       "      <td>09:32</td>\n",
       "      <td>17.32</td>\n",
       "      <td>17.82</td>\n",
       "      <td>17.28</td>\n",
       "      <td>17.66</td>\n",
       "      <td>24485</td>\n",
       "      <td>300713</td>\n",
       "      <td>英可瑞</td>\n",
       "      <td>高举高打</td>\n",
       "      <td>3.882353</td>\n",
       "      <td>0.109174</td>\n",
       "      <td>81909.0</td>\n",
       "      <td>True</td>\n",
       "      <td>False</td>\n",
       "    </tr>\n",
       "    <tr>\n",
       "      <th>2024-07-15 09:32:00</th>\n",
       "      <td>09:32</td>\n",
       "      <td>9.41</td>\n",
       "      <td>9.74</td>\n",
       "      <td>9.39</td>\n",
       "      <td>9.70</td>\n",
       "      <td>79577</td>\n",
       "      <td>600686</td>\n",
       "      <td>金龙汽车</td>\n",
       "      <td>跟风涨停</td>\n",
       "      <td>1.041667</td>\n",
       "      <td>-0.127152</td>\n",
       "      <td>-21613.0</td>\n",
       "      <td>True</td>\n",
       "      <td>False</td>\n",
       "    </tr>\n",
       "    <tr>\n",
       "      <th>2024-07-15 09:32:00</th>\n",
       "      <td>09:32</td>\n",
       "      <td>7.25</td>\n",
       "      <td>7.49</td>\n",
       "      <td>7.25</td>\n",
       "      <td>7.48</td>\n",
       "      <td>75798</td>\n",
       "      <td>300177</td>\n",
       "      <td>中海达</td>\n",
       "      <td>震荡</td>\n",
       "      <td>3.888889</td>\n",
       "      <td>-0.219677</td>\n",
       "      <td>219803.0</td>\n",
       "      <td>True</td>\n",
       "      <td>False</td>\n",
       "    </tr>\n",
       "    <tr>\n",
       "      <th>2024-07-15 09:32:00</th>\n",
       "      <td>09:32</td>\n",
       "      <td>13.01</td>\n",
       "      <td>13.40</td>\n",
       "      <td>13.01</td>\n",
       "      <td>13.25</td>\n",
       "      <td>15461</td>\n",
       "      <td>603386</td>\n",
       "      <td>骏亚科技</td>\n",
       "      <td>冲高回落</td>\n",
       "      <td>0.302801</td>\n",
       "      <td>-0.503135</td>\n",
       "      <td>-1245.0</td>\n",
       "      <td>True</td>\n",
       "      <td>False</td>\n",
       "    </tr>\n",
       "    <tr>\n",
       "      <th>2024-07-15 09:32:00</th>\n",
       "      <td>09:32</td>\n",
       "      <td>27.39</td>\n",
       "      <td>27.41</td>\n",
       "      <td>26.68</td>\n",
       "      <td>26.79</td>\n",
       "      <td>31654</td>\n",
       "      <td>300641</td>\n",
       "      <td>正丹股份</td>\n",
       "      <td>冲高回落</td>\n",
       "      <td>-3.424658</td>\n",
       "      <td>-0.507198</td>\n",
       "      <td>-59978.0</td>\n",
       "      <td>False</td>\n",
       "      <td>False</td>\n",
       "    </tr>\n",
       "    <tr>\n",
       "      <th>2024-07-15 09:32:00</th>\n",
       "      <td>09:32</td>\n",
       "      <td>10.46</td>\n",
       "      <td>10.46</td>\n",
       "      <td>10.35</td>\n",
       "      <td>10.37</td>\n",
       "      <td>8488</td>\n",
       "      <td>002534</td>\n",
       "      <td>西子节能</td>\n",
       "      <td>偷偷大涨</td>\n",
       "      <td>-5.898367</td>\n",
       "      <td>-0.814695</td>\n",
       "      <td>-23820.0</td>\n",
       "      <td>False</td>\n",
       "      <td>False</td>\n",
       "    </tr>\n",
       "    <tr>\n",
       "      <th>2024-07-15 09:32:00</th>\n",
       "      <td>09:32</td>\n",
       "      <td>57.25</td>\n",
       "      <td>58.15</td>\n",
       "      <td>57.23</td>\n",
       "      <td>57.52</td>\n",
       "      <td>3866</td>\n",
       "      <td>300763</td>\n",
       "      <td>锦浪科技</td>\n",
       "      <td>偷偷大涨</td>\n",
       "      <td>-0.173551</td>\n",
       "      <td>-0.831334</td>\n",
       "      <td>-3902.0</td>\n",
       "      <td>False</td>\n",
       "      <td>False</td>\n",
       "    </tr>\n",
       "  </tbody>\n",
       "</table>\n",
       "</div>"
      ],
      "text/plain": [
       "                      Time   Open   High    Low  Close  Volume      代码    名称    走势       ROC       CMF       OBV  top_roc_divergences  bottom_roc_divergences\n",
       "时间                                                                                                                                                           \n",
       "2024-07-15 09:32:00  09:32  48.49  49.48  48.49  49.28    8621  300114  中航电测  冲高回落  2.773723  0.811799   26054.0                 True                   False\n",
       "2024-07-15 09:32:00  09:32   4.79   5.24   4.79   5.18   31468  300391  长药控股  冲高回落  9.282700  0.525408  116688.0                 True                   False\n",
       "2024-07-15 09:32:00  09:32   8.74   8.99   8.74   8.90   13179  300141  和顺电气  冲高回落  3.729604  0.161222   39732.0                 True                   False\n",
       "2024-07-15 09:32:00  09:32  17.32  17.82  17.28  17.66   24485  300713   英可瑞  高举高打  3.882353  0.109174   81909.0                 True                   False\n",
       "2024-07-15 09:32:00  09:32   9.41   9.74   9.39   9.70   79577  600686  金龙汽车  跟风涨停  1.041667 -0.127152  -21613.0                 True                   False\n",
       "2024-07-15 09:32:00  09:32   7.25   7.49   7.25   7.48   75798  300177   中海达    震荡  3.888889 -0.219677  219803.0                 True                   False\n",
       "2024-07-15 09:32:00  09:32  13.01  13.40  13.01  13.25   15461  603386  骏亚科技  冲高回落  0.302801 -0.503135   -1245.0                 True                   False\n",
       "2024-07-15 09:32:00  09:32  27.39  27.41  26.68  26.79   31654  300641  正丹股份  冲高回落 -3.424658 -0.507198  -59978.0                False                   False\n",
       "2024-07-15 09:32:00  09:32  10.46  10.46  10.35  10.37    8488  002534  西子节能  偷偷大涨 -5.898367 -0.814695  -23820.0                False                   False\n",
       "2024-07-15 09:32:00  09:32  57.25  58.15  57.23  57.52    3866  300763  锦浪科技  偷偷大涨 -0.173551 -0.831334   -3902.0                False                   False"
      ]
     },
     "execution_count": 17,
     "metadata": {},
     "output_type": "execute_result"
    }
   ],
   "source": [
    "\n",
    "# 模块5: 主程序\n",
    "def main():\n",
    "    # 假设的OHLCV数据\n",
    "    \n",
    "    stock_symbol_list =['300141','300114','300177','300713','300391','600686','300763','002534','300641','603386']\n",
    "    stock_name_list =['和顺电气','中航电测','中海达','英可瑞','长药控股','金龙汽车','锦浪科技','西子节能','正丹股份','骏亚科技']\n",
    "    stock_state_list=['冲高回落','冲高回落','震荡','高举高打','冲高回落','跟风涨停','偷偷大涨','偷偷大涨','冲高回落','冲高回落']\n",
    "    data_932_list =[ load_data_932(symbol) for symbol in stock_symbol_list]\n",
    "    \n",
    "    main_df = None\n",
    "    for symbol,name,state,data in zip(stock_symbol_list,stock_name_list,stock_state_list,data_932_list):\n",
    "        data['代码']=symbol\n",
    "        data['名称']=name\n",
    "        data['走势']=state\n",
    "        data = calculate_indicators(data)\n",
    "        # 识别顶背离和底背离\n",
    "        \n",
    "        top_roc_divergences = identify_top_divergence(data, 'CMF', 'Volume')\n",
    "        bottom_roc_divergences = identify_bottom_divergence(data, 'CMF', 'Volume')\n",
    "\n",
    "        data[\"top_roc_divergences\"]  = len(top_roc_divergences) > 0\n",
    "        data[\"bottom_roc_divergences\"]  = len(bottom_roc_divergences) > 0\n",
    "        \n",
    "        if main_df is None:\n",
    "            main_df = data.tail(1)\n",
    "        else:\n",
    "            main_df = pd.concat([main_df, data.tail(1)])    \n",
    "\n",
    "    main_df = main_df.sort_values(by='CMF', ascending=False)\n",
    "\n",
    "    display(Markdown(main_df.to_markdown(index=False))) \n",
    "    return main_df\n",
    "\n",
    "    \n",
    "main()\n",
    "\n",
    "# if __name__ == \"__main__\":\n",
    "#     main()"
   ]
  },
  {
   "cell_type": "code",
   "execution_count": 18,
   "metadata": {},
   "outputs": [
    {
     "data": {
      "text/markdown": [
       "| Time   |   Open |   High |   Low |   Close |   Volume |   代码 | 名称     | 走势     |       ROC |       CMF |    OBV | top_roc_divergences   | bottom_roc_divergences   |\n",
       "|:-------|-------:|-------:|------:|--------:|---------:|-------:|:---------|:---------|----------:|----------:|-------:|:----------------------|:-------------------------|\n",
       "| 09:32  |  48.49 |  49.48 | 48.49 |   49.28 |     8621 | 300114 | 中航电测 | 冲高回落 |  2.77372  |  0.811799 |  26054 | True                  | False                    |\n",
       "| 09:32  |   4.79 |   5.24 |  4.79 |    5.18 |    31468 | 300391 | 长药控股 | 冲高回落 |  9.2827   |  0.525408 | 116688 | True                  | False                    |\n",
       "| 09:32  |   8.74 |   8.99 |  8.74 |    8.9  |    13179 | 300141 | 和顺电气 | 冲高回落 |  3.7296   |  0.161222 |  39732 | True                  | False                    |\n",
       "| 09:32  |  17.32 |  17.82 | 17.28 |   17.66 |    24485 | 300713 | 英可瑞   | 高举高打 |  3.88235  |  0.109174 |  81909 | True                  | False                    |\n",
       "| 09:32  |   9.41 |   9.74 |  9.39 |    9.7  |    79577 | 600686 | 金龙汽车 | 跟风涨停 |  1.04167  | -0.127152 | -21613 | True                  | False                    |\n",
       "| 09:32  |   7.25 |   7.49 |  7.25 |    7.48 |    75798 | 300177 | 中海达   | 震荡     |  3.88889  | -0.219677 | 219803 | True                  | False                    |\n",
       "| 09:32  |  13.01 |  13.4  | 13.01 |   13.25 |    15461 | 603386 | 骏亚科技 | 冲高回落 |  0.302801 | -0.503135 |  -1245 | True                  | False                    |\n",
       "| 09:32  |  27.39 |  27.41 | 26.68 |   26.79 |    31654 | 300641 | 正丹股份 | 冲高回落 | -3.42466  | -0.507198 | -59978 | False                 | False                    |\n",
       "| 09:32  |  10.46 |  10.46 | 10.35 |   10.37 |     8488 | 002534 | 西子节能 | 偷偷大涨 | -5.89837  | -0.814695 | -23820 | False                 | False                    |\n",
       "| 09:32  |  57.25 |  58.15 | 57.23 |   57.52 |     3866 | 300763 | 锦浪科技 | 偷偷大涨 | -0.173551 | -0.831334 |  -3902 | False                 | False                    |"
      ],
      "text/plain": [
       "<IPython.core.display.Markdown object>"
      ]
     },
     "metadata": {},
     "output_type": "display_data"
    }
   ],
   "source": [
    "df2 = main()\n"
   ]
  },
  {
   "cell_type": "code",
   "execution_count": 26,
   "metadata": {},
   "outputs": [
    {
     "name": "stdout",
     "output_type": "stream",
     "text": [
      "                      Time   Open   High    Low  Close  Volume      代码    名称    走势       ROC       CMF       OBV  top_roc_divergences  bottom_roc_divergences\n",
      "时间                                                                                                                                                           \n",
      "2024-07-15 09:32:00  09:32  48.49  49.48  48.49  49.28    8621  300114  中航电测  冲高回落  2.773723  0.811799   26054.0                 True                   False\n",
      "2024-07-15 09:32:00  09:32   4.79   5.24   4.79   5.18   31468  300391  长药控股  冲高回落  9.282700  0.525408  116688.0                 True                   False\n",
      "2024-07-15 09:32:00  09:32   8.74   8.99   8.74   8.90   13179  300141  和顺电气  冲高回落  3.729604  0.161222   39732.0                 True                   False\n",
      "2024-07-15 09:32:00  09:32  17.32  17.82  17.28  17.66   24485  300713   英可瑞  高举高打  3.882353  0.109174   81909.0                 True                   False\n",
      "2024-07-15 09:32:00  09:32   9.41   9.74   9.39   9.70   79577  600686  金龙汽车  跟风涨停  1.041667 -0.127152  -21613.0                 True                   False\n",
      "2024-07-15 09:32:00  09:32   7.25   7.49   7.25   7.48   75798  300177   中海达    震荡  3.888889 -0.219677  219803.0                 True                   False\n",
      "2024-07-15 09:32:00  09:32  13.01  13.40  13.01  13.25   15461  603386  骏亚科技  冲高回落  0.302801 -0.503135   -1245.0                 True                   False\n"
     ]
    }
   ],
   "source": [
    "# print(df2.columns)\n",
    "print(df2[df2.top_roc_divergences.astype(bool) == True])"
   ]
  },
  {
   "cell_type": "code",
   "execution_count": 31,
   "metadata": {},
   "outputs": [
    {
     "name": "stdout",
     "output_type": "stream",
     "text": [
      "                      Time   Open   High    Low  Close  Volume      代码    名称    走势       ROC       CMF       OBV  top_roc_divergences  bottom_roc_divergences\n",
      "时间                                                                                                                                                           \n",
      "2024-07-15 09:32:00  09:32  48.49  49.48  48.49  49.28    8621  300114  中航电测  冲高回落  2.773723  0.811799   26054.0                 True                   False\n",
      "2024-07-15 09:32:00  09:32   4.79   5.24   4.79   5.18   31468  300391  长药控股  冲高回落  9.282700  0.525408  116688.0                 True                   False\n",
      "2024-07-15 09:32:00  09:32   8.74   8.99   8.74   8.90   13179  300141  和顺电气  冲高回落  3.729604  0.161222   39732.0                 True                   False\n",
      "2024-07-15 09:32:00  09:32  17.32  17.82  17.28  17.66   24485  300713   英可瑞  高举高打  3.882353  0.109174   81909.0                 True                   False\n",
      "2024-07-15 09:32:00  09:32   9.41   9.74   9.39   9.70   79577  600686  金龙汽车  跟风涨停  1.041667 -0.127152  -21613.0                 True                   False\n",
      "2024-07-15 09:32:00  09:32   7.25   7.49   7.25   7.48   75798  300177   中海达    震荡  3.888889 -0.219677  219803.0                 True                   False\n",
      "2024-07-15 09:32:00  09:32  13.01  13.40  13.01  13.25   15461  603386  骏亚科技  冲高回落  0.302801 -0.503135   -1245.0                 True                   False\n"
     ]
    }
   ],
   "source": [
    "\n",
    "# 模块5: 主程序\n",
    "def main():\n",
    "    # 假设的OHLCV数据\n",
    "    \n",
    "    stock_symbol_list =['300141','300114','300177','300713','300391','600686','300763','002534','300641','603386']\n",
    "    stock_name_list =['和顺电气','中航电测','中海达','英可瑞','长药控股','金龙汽车','锦浪科技','西子节能','正丹股份','骏亚科技']\n",
    "    stock_state_list=['冲高回落','冲高回落','震荡','高举高打','冲高回落','跟风涨停','偷偷大涨','偷偷大涨','冲高回落','冲高回落']\n",
    "    data_932_list =[ load_data_932(symbol) for symbol in stock_symbol_list]\n",
    "    \n",
    "    main_df = None\n",
    "    for symbol,name,state,data in zip(stock_symbol_list,stock_name_list,stock_state_list,data_932_list):\n",
    "        data['代码']=symbol\n",
    "        data['名称']=name\n",
    "        data['走势']=state\n",
    "        data = calculate_indicators(data)\n",
    "        # 识别顶背离和底背离\n",
    "        \n",
    "        top_roc_divergences = identify_top_divergence(data, 'CMF', 'Volume')\n",
    "        bottom_roc_divergences = identify_bottom_divergence(data, 'CMF', 'Volume')\n",
    "\n",
    "        data[\"top_roc_divergences\"]  = len(top_roc_divergences) > 0\n",
    "        data[\"bottom_roc_divergences\"]  = len(bottom_roc_divergences) > 0\n",
    "        \n",
    "        if main_df is None:\n",
    "            main_df = data.tail(1)\n",
    "        else:\n",
    "            main_df = pd.concat([main_df, data.tail(1)])    \n",
    "\n",
    "    main_df = main_df.sort_values(by='CMF', ascending=False)\n",
    "\n",
    "    # display(Markdown(main_df.to_markdown(index=False))) \n",
    "    return main_df\n",
    "\n",
    "    \n",
    "# main()\n",
    "\n",
    "# if __name__ == \"__main__\":\n",
    "#     main()\n",
    "df2 = main()\n",
    "print(df2[df2.top_roc_divergences.astype(bool) == True])"
   ]
  },
  {
   "cell_type": "code",
   "execution_count": 37,
   "metadata": {},
   "outputs": [
    {
     "name": "stdout",
     "output_type": "stream",
     "text": [
      "            日期    开盘    收盘    最高    最低     成交量           成交额     振幅    涨跌幅   涨跌额    换手率\n",
      "0   2024-06-17  7.41  8.05  8.21  7.22  187855  1.453822e+08  12.68   3.07  0.24   7.45\n",
      "1   2024-06-18  7.89  7.88  7.96  7.74  123321  9.667215e+07   2.73  -2.11 -0.17   4.89\n",
      "2   2024-06-19  7.75  7.55  7.89  7.55   97610  7.483563e+07   4.31  -4.19 -0.33   3.87\n",
      "3   2024-06-20  7.55  7.58  7.88  7.46   92094  7.059265e+07   5.56   0.40  0.03   3.65\n",
      "4   2024-06-21  7.39  7.38  7.64  7.30   57440  4.282411e+07   4.49  -2.64 -0.20   2.28\n",
      "5   2024-06-24  7.28  7.28  7.49  7.12   56127  4.122513e+07   5.01  -1.36 -0.10   2.22\n",
      "6   2024-06-25  7.28  7.17  7.40  7.02   55683  3.999976e+07   5.22  -1.51 -0.11   2.21\n",
      "7   2024-06-26  7.08  7.33  7.33  6.95   47904  3.435540e+07   5.30   2.23  0.16   1.90\n",
      "8   2024-06-27  7.39  7.36  7.61  7.24   64443  4.756357e+07   5.05   0.41  0.03   2.55\n",
      "9   2024-06-28  7.68  8.21  8.83  7.59  361984  3.127146e+08  16.85  11.55  0.85  14.35\n",
      "10  2024-07-01  8.11  7.90  8.26  7.79  268298  2.133337e+08   5.72  -3.78 -0.31  10.63\n",
      "11  2024-07-02  7.85  8.00  8.21  7.73  206090  1.631327e+08   6.08   1.27  0.10   8.17\n",
      "12  2024-07-03  7.86  7.76  7.87  7.63  137819  1.066133e+08   3.00  -3.00 -0.24   5.46\n",
      "13  2024-07-04  7.71  7.99  8.05  7.61  182970  1.442245e+08   5.67   2.96  0.23   7.25\n",
      "14  2024-07-05  7.79  8.16  8.38  7.79  179114  1.448727e+08   7.38   2.13  0.17   7.10\n",
      "15  2024-07-08  7.97  8.20  8.45  7.76  160329  1.292466e+08   8.46   0.49  0.04   6.35\n",
      "16  2024-07-09  7.97  8.49  8.50  7.76  212197  1.739438e+08   9.02   3.54  0.29   8.41\n",
      "17  2024-07-10  8.30  8.17  8.44  8.04  153592  1.264904e+08   4.71  -3.77 -0.32   6.09\n",
      "18  2024-07-11  8.28  8.41  8.45  8.10  151857  1.256559e+08   4.28   2.94  0.24   6.02\n",
      "19  2024-07-12  8.64  8.70  9.99  8.64  309283  2.818596e+08  16.05   3.45  0.29  12.26\n",
      "20  2024-07-15  8.58  8.70  9.17  8.58  223925  1.983595e+08   6.78   0.00  0.00   8.88\n",
      "21  2024-07-16  8.43  8.18  8.44  7.96  215090  1.752029e+08   5.52  -5.98 -0.52   8.53\n"
     ]
    }
   ],
   "source": [
    "start_date = datetime.now() - timedelta(days=30)\n",
    "start_date_str = start_date.strftime('%Y%m%d')\n",
    "df =ak.stock_zh_a_hist(symbol='300141', start_date=start_date_str, adjust='')\n",
    "\n",
    "print(df)"
   ]
  },
  {
   "cell_type": "code",
   "execution_count": 59,
   "metadata": {},
   "outputs": [
    {
     "data": {
      "text/plain": [
       "-14.32394487827058"
      ]
     },
     "execution_count": 59,
     "metadata": {},
     "output_type": "execute_result"
    }
   ],
   "source": [
    "import math\n",
    "degrees = 30\n",
    "radians = math.radians(degrees)\n",
    "math.tan(radians)\n",
    "\n",
    "\n",
    "radians = math.degrees(-0.25)\n",
    "radians\n"
   ]
  },
  {
   "cell_type": "code",
   "execution_count": 32,
   "metadata": {},
   "outputs": [
    {
     "data": {
      "text/plain": [
       "Index(['日期', '开盘', '收盘', '最高', '最低', '成交量', '成交额', '振幅', '涨跌幅', '涨跌额', '换手率'], dtype='object')"
      ]
     },
     "execution_count": 32,
     "metadata": {},
     "output_type": "execute_result"
    }
   ],
   "source": [
    "df111 =ak.stock_zh_a_spot_em()\n",
    "df.columns"
   ]
  },
  {
   "cell_type": "code",
   "execution_count": 36,
   "metadata": {},
   "outputs": [
    {
     "data": {
      "text/plain": [
       "0.5773502691896257"
      ]
     },
     "execution_count": 36,
     "metadata": {},
     "output_type": "execute_result"
    }
   ],
   "source": []
  },
  {
   "cell_type": "code",
   "execution_count": 7,
   "metadata": {},
   "outputs": [
    {
     "name": "stdout",
     "output_type": "stream",
     "text": [
      "   item          value\n",
      "0  股票代码         300397\n",
      "1  股票简称           天和防务\n",
      "2   总股本    517636745.0\n",
      "3   流通股    405505408.0\n",
      "4   总市值   4472381476.8\n",
      "5  流通市值  3503566725.12\n",
      "6    行业           通信设备\n",
      "7  上市时间       20140910\n",
      "item              总市值\n",
      "value    4472381476.8\n",
      "Name: 4, dtype: object\n",
      "44.723814768000004\n"
     ]
    }
   ],
   "source": [
    "stock_info = ak.stock_individual_info_em(symbol=\"300397\")\n",
    "print(stock_info)\n",
    "print(stock_info.iloc[4])\n",
    "total_mv = stock_info.iloc[4]['value'] / (10000 * 10000)  # 总市值\n",
    "print(total_mv)"
   ]
  },
  {
   "cell_type": "code",
   "execution_count": 9,
   "metadata": {},
   "outputs": [
    {
     "name": "stdout",
     "output_type": "stream",
     "text": [
      "         date  open  high   low  close      volume  outstanding_share  turnover\n",
      "0  2024-07-01  9.21  9.30  9.00   9.29   9995220.0        405505408.0  0.024649\n",
      "1  2024-07-02  9.34  9.57  9.22   9.38  14222992.0        405505408.0  0.035075\n",
      "2  2024-07-03  9.27  9.32  9.10   9.13   8676677.0        405505408.0  0.021397\n",
      "3  2024-07-04  9.10  9.21  8.89   8.90   8559593.0        405505408.0  0.021108\n",
      "4  2024-07-05  8.90  9.04  8.76   9.00   8271389.0        405505408.0  0.020398\n",
      "5  2024-07-08  8.99  8.99  8.69   8.71   7591432.0        405505408.0  0.018721\n",
      "6  2024-07-09  8.69  8.90  8.53   8.86  10535187.0        405505408.0  0.025980\n",
      "7  2024-07-10  8.92  8.99  8.77   8.88   8144458.0        405505408.0  0.020085\n",
      "8  2024-07-11  9.04  9.14  8.95   9.12   9029491.0        405505408.0  0.022267\n",
      "9  2024-07-12  9.13  9.15  8.88   8.91   8240426.0        405505408.0  0.020321\n",
      "10 2024-07-15  9.02  9.15  8.80   8.83  10290343.0        405505408.0  0.025377\n",
      "11 2024-07-16  8.72  8.84  8.65   8.83   7221416.0        405505408.0  0.017808\n",
      "12 2024-07-17  8.80  8.80  8.56   8.56   7649099.0        405505408.0  0.018863\n",
      "13 2024-07-18  8.50  8.62  8.22   8.52  10608980.0        405505408.0  0.026162\n"
     ]
    },
    {
     "name": "stderr",
     "output_type": "stream",
     "text": [
      "/root/anaconda3/envs/sequoia39/lib/python3.9/site-packages/akshare/stock/stock_zh_a_sina.py:198: FutureWarning: DataFrame.fillna with 'method' is deprecated and will raise in a future version. Use obj.ffill() or obj.bfill() instead.\n",
      "  temp_df.fillna(method=\"ffill\", inplace=True)\n"
     ]
    }
   ],
   "source": [
    "df = ak.stock_zh_a_daily(symbol='sz300397', start_date=\"20240701\", end_date=\"20240719\")\n",
    "print(df)\n"
   ]
  },
  {
   "cell_type": "code",
   "execution_count": 11,
   "metadata": {},
   "outputs": [
    {
     "data": {
      "text/plain": [
       "0.38222845928637816"
      ]
     },
     "execution_count": 11,
     "metadata": {},
     "output_type": "execute_result"
    }
   ],
   "source": [
    "405505408/1060898000"
   ]
  },
  {
   "cell_type": "code",
   "execution_count": 12,
   "metadata": {},
   "outputs": [
    {
     "name": "stdout",
     "output_type": "stream",
     "text": [
      "            日期    开盘    收盘    最高    最低     成交量           成交额    振幅   涨跌幅   涨跌额   换手率\n",
      "0   2024-07-01  9.21  9.29  9.30  9.00   99952  9.159037e+07  3.26  0.98  0.09  2.46\n",
      "1   2024-07-02  9.34  9.38  9.57  9.22  142230  1.337113e+08  3.77  0.97  0.09  3.51\n",
      "2   2024-07-03  9.27  9.13  9.32  9.10   86767  7.946484e+07  2.35 -2.67 -0.25  2.14\n",
      "3   2024-07-04  9.10  8.90  9.21  8.89   85596  7.733892e+07  3.50 -2.52 -0.23  2.11\n",
      "4   2024-07-05  8.90  9.00  9.04  8.76   82714  7.376898e+07  3.15  1.12  0.10  2.04\n",
      "5   2024-07-08  8.99  8.71  8.99  8.69   75914  6.663581e+07  3.33 -3.22 -0.29  1.87\n",
      "6   2024-07-09  8.69  8.86  8.90  8.53  105352  9.197133e+07  4.25  1.72  0.15  2.60\n",
      "7   2024-07-10  8.92  8.88  8.99  8.77   81445  7.255074e+07  2.48  0.23  0.02  2.01\n",
      "8   2024-07-11  9.04  9.12  9.14  8.95   90295  8.191076e+07  2.14  2.70  0.24  2.23\n",
      "9   2024-07-12  9.13  8.91  9.15  8.88   82404  7.402795e+07  2.96 -2.30 -0.21  2.03\n",
      "10  2024-07-15  9.02  8.83  9.15  8.80  102903  9.201860e+07  3.93 -0.90 -0.08  2.54\n",
      "11  2024-07-16  8.72  8.83  8.84  8.65   72214  6.322940e+07  2.15  0.00  0.00  1.78\n",
      "12  2024-07-17  8.80  8.56  8.80  8.56   76491  6.617024e+07  2.72 -3.06 -0.27  1.89\n",
      "13  2024-07-18  8.50  8.52  8.62  8.22  106090  8.904392e+07  4.67 -0.47 -0.04  2.62\n",
      "14  2024-07-19  8.50  8.60  8.68  8.46   74040  6.363972e+07  2.58  0.94  0.08  1.83\n"
     ]
    }
   ],
   "source": [
    "df = ak.stock_zh_a_hist(symbol='300397', start_date=\"20240701\", end_date=\"20240719\", adjust='')\n",
    "print(df)"
   ]
  },
  {
   "cell_type": "code",
   "execution_count": 15,
   "metadata": {},
   "outputs": [
    {
     "name": "stdout",
     "output_type": "stream",
     "text": [
      "Index(['序号', '代码', '名称', '最新价', '涨跌幅', '涨跌额', '成交量', '成交额', '振幅', '最高', '最低', '今开', '昨收', '量比', '换手率', '市盈率-动态', '市净率', '总市值', '流通市值', '涨速', '5分钟涨跌', '60日涨跌幅', '年初至今涨跌幅'], dtype='object')\n",
      "Index(['代码', '名称', '最新价', '涨跌幅', '成交量', '成交额', '振幅', '最高', '最低', '今开', '昨收', '量比', '换手率', '市盈率-动态', '市净率', '总市值', '流通市值', '涨速', '5分钟涨跌', '60日涨跌幅', '年初至今涨跌幅'], dtype='object')\n",
      "['code', 'name', 'price', 'pct', 'volume', 'amount', 'amplitude', 'high', 'low', 'open', 'close_yesterday', 'volume_ratio', 'turnover', 'pe', 'pb', 'total_market_capitalization', 'circulating_market_capitalization', 'rate_of_increase', '5_minute_change', '60_day_pct', 'ytd_pct']\n",
      "        code  name  price     pct    volume        amount  amplitude   high    low   open  close_yesterday  volume_ratio  turnover       pe    pb  total_market_capitalization  circulating_market_capitalization  rate_of_increase  5_minute_change  60_day_pct  ytd_pct\n",
      "0     301552  N科力装  69.20  130.67  106037.0  7.359846e+08      30.67  75.00  65.80  70.22            30.00           NaN     77.24    32.37  4.57                 4.705600e+09                       9.500059e+08              0.29             2.19      130.67   130.67\n",
      "1     835207  众诚科技   9.69   25.19  142643.0  1.362239e+08      22.48  10.06   8.32   8.36             7.74          3.86     25.60   271.10  2.73                 9.108116e+08                       5.399459e+08             -0.51             0.41       44.63   -31.28\n",
      "2     300550  和仁科技  10.96   20.04   65467.0  6.896327e+07      18.18  10.96   9.30   9.30             9.13          4.33      2.50 -1394.26  2.69                 2.877659e+09                       2.874423e+09              0.00             0.00       13.69   -26.74\n",
      "3     301117  佳缘科技  32.86   20.01   79975.0  2.626773e+08       0.33  32.86  32.77  32.79            27.38          1.95     17.45   -47.95  2.35                 3.031772e+09                       1.505597e+09              0.00             0.00        6.97   -39.72\n",
      "4     301063  海锅股份  18.36   20.00   99997.0  1.799158e+08      14.05  18.36  16.21  16.21            15.30          4.93     16.36    68.01  1.26                 1.916063e+09                       1.122415e+09              0.00             0.00       28.75   -18.94\n",
      "...      ...   ...    ...     ...       ...           ...        ...    ...    ...    ...              ...           ...       ...      ...   ...                          ...                                ...               ...              ...         ...      ...\n",
      "5617  837821  则成电子  26.92  -10.27   83716.0  2.421157e+08      12.23  30.42  26.75  29.00            30.00          0.72     16.45   185.86  5.34                 2.660502e+09                       1.369634e+09              0.41            -2.11      241.62    76.64\n",
      "5618  831641   格利尔   9.04  -10.50   76675.0  7.092418e+07       8.22   9.71   8.88   9.40            10.10          1.00     29.39   -26.97  1.99                 6.989276e+08                       2.358416e+08              0.11             0.89       30.64   -31.52\n",
      "5619  839946  华阳变速   5.66  -12.92  283391.0  1.661209e+08      10.46   6.25   5.57   6.00             6.50          0.86     28.52   -21.16  3.35                 7.640459e+08                       5.623705e+08              0.18            -0.53       53.39    -3.25\n",
      "5620  873223  荣亿精密   5.22  -13.14  192983.0  1.038867e+08      12.15   5.80   5.07   5.65             6.01          0.97     24.07   -27.02  2.87                 8.210277e+08                       4.184548e+08              0.00             1.56       71.15    -8.26\n",
      "5621  871553  凯腾精工   5.08  -16.31  121423.0  6.355776e+07      12.69   5.77   5.00   5.46             6.07          1.50     13.22   588.45  2.22                 7.299475e+08                       4.666753e+08              0.00             1.20       21.24   -12.26\n",
      "\n",
      "[5622 rows x 21 columns]\n"
     ]
    }
   ],
   "source": [
    "df =ak.stock_zh_a_spot_em()\n",
    "print(df.columns)\n",
    "# print(df)\n",
    "df.drop(columns=['序号'],inplace=True)\n",
    "df.drop(columns=['涨跌额'],inplace=True)\n",
    "print(df.columns)\n",
    "SPOT_EM_COLUMNS =[\n",
    "  \"code\",\n",
    "  \"name\",\n",
    "  \"price\",\n",
    "  \"pct\",\n",
    "  \"volume\",\n",
    "  \"amount\",\n",
    "  \"amplitude\",\n",
    "  \"high\",\n",
    "  \"low\",\n",
    "  \"open\",\n",
    "  \"close_yesterday\",\n",
    "  \"volume_ratio\",\n",
    "  \"turnover\",\n",
    "  \"pe\",\n",
    "  \"pb\",\n",
    "  \"total_market_capitalization\",\n",
    "  \"circulating_market_capitalization\",\n",
    "  \"rate_of_increase\",\n",
    "  \"5_minute_change\",\n",
    "  \"60_day_pct\",\n",
    "  \"ytd_pct\"\n",
    "]\n",
    "print(SPOT_EM_COLUMNS)\n",
    "df.columns = list(SPOT_EM_COLUMNS)\n",
    "# df =df[SPOT_EM_COLUMNS]\n",
    "print(df.columns)"
   ]
  }
 ],
 "metadata": {
  "kernelspec": {
   "display_name": "sequoia39",
   "language": "python",
   "name": "python3"
  },
  "language_info": {
   "codemirror_mode": {
    "name": "ipython",
    "version": 3
   },
   "file_extension": ".py",
   "mimetype": "text/x-python",
   "name": "python",
   "nbconvert_exporter": "python",
   "pygments_lexer": "ipython3",
   "version": "3.9.19"
  }
 },
 "nbformat": 4,
 "nbformat_minor": 2
}

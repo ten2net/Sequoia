{
 "cells": [
  {
   "cell_type": "code",
   "execution_count": 9,
   "metadata": {},
   "outputs": [],
   "source": [
    "import pywencai\n",
    "import pandas as pd\n",
    "import numpy as np\n",
    "import akshare as ak\n",
    "from datetime import datetime, timedelta\n",
    "import pandas_ta as ta\n",
    "\n",
    "from IPython.display import Markdown\n",
    "# 获取2021-01-01到2021-12-31的上证50成分股的前一分钟数据\n",
    "\n"
   ]
  },
  {
   "cell_type": "code",
   "execution_count": 50,
   "metadata": {},
   "outputs": [
    {
     "data": {
      "text/markdown": [
       "|   代码 | 名称     | 走势     | 时间                |   开盘 |   OBV_DIR |   收盘 |   最高 |   最低 |   成交量 |   ROC_2 |      CMF_2 |      ROC |        CMF |   ROC_X_CMF |\n",
       "|-------:|:---------|:---------|:--------------------|-------:|----------:|-------:|-------:|-------:|---------:|--------:|-----------:|---------:|-----------:|------------:|\n",
       "| 300114 | 中航电测 | 冲高回落 | 2024-07-12 09:32:00 |  52.88 |         1 |  53    |  54.44 |  52.88 |    26051 | 6       |  0.309785  | 11.76    |  1.30979   |  15.4031    |\n",
       "| 300177 | 中海达   | 震荡     | 2024-07-12 09:32:00 |   6.92 |         1 |   7.03 |   7.04 |   6.92 |    55569 | 4.769   |  0.777851  |  7.6006  |  1.49214   |  11.3411    |\n",
       "| 600686 | 金龙汽车 | 跟风涨停 | 2024-07-12 09:32:00 |   8.72 |         1 |   8.64 |   8.75 |   8.58 |    28343 | 2.24852 |  0.370583  |  4.97041 |  1.10743   |   5.50436   |\n",
       "| 300391 | 长药控股 | 冲高回落 | 2024-07-12 09:32:00 |   5.67 |        -1 |   5.85 |   5.88 |   5.57 |    26411 | 1.73913 |  0.233185  | -1.04348 |  0.0513666 |  -0.0535999 |\n",
       "| 300713 | 英可瑞   | 高举高打 | 2024-07-12 09:32:00 |  14.49 |        -1 |  15.46 |  15.46 |  14.49 |    33856 | 4.31849 |  0.0109065 |  2.09177 | -0.766871  |  -1.60412   |\n",
       "| 300141 | 和顺电气 | 冲高回落 | 2024-07-12 09:32:00 |   9.4  |         1 |   9.49 |   9.85 |   9.4  |    32642 | 9.83796 | -0.248245  | 19.5602  | -0.105388  |  -2.06141   |"
      ],
      "text/plain": [
       "<IPython.core.display.Markdown object>"
      ]
     },
     "metadata": {},
     "output_type": "display_data"
    }
   ],
   "source": [
    "pd.set_option('display.width',3000)\n",
    "pd.set_option('display.max_columns',100)\n",
    "pd.set_option('display.html.table.schema',True)\n",
    "pd.set_option('display.max_columns',100)\n",
    "def ta_ind(symbol:str):\n",
    "  df = ak.stock_zh_a_hist_pre_min_em(symbol=symbol, start_time=\"09:00:00\", end_time=\"09:32:00\")\n",
    "\n",
    "  df['时间'] = pd.to_datetime(df['时间'])\n",
    "  df = df.set_index('时间',drop=False)\n",
    "  df.ta.roc(close='收盘',volume='成交量', length=2,append=True)\n",
    "  df.ta.cmf(open=\"开盘\",high=\"最高\",low=\"最低\",close='收盘',volume='成交量', length=2,append=True)\n",
    "  df.ta.obv(close='收盘',volume='成交量', length=2,append=True)\n",
    "  df['ROC']=df['ROC_2'].rolling(2).sum()\n",
    "  df['CMF']=df['CMF_2'].rolling(2).sum()\n",
    "  df['OBV_DIR']=df['OBV'] / abs(df['OBV']) \n",
    "  # df['ROC_2'] - df['ROC_2'].shift(1)\n",
    "  # df['ROC_X_CMF']=df['ROC'] * df['CMF'] * df['OBV_DIR'] \n",
    "  df['ROC_X_CMF']=df['ROC'] * df['CMF'] \n",
    "  # df.ta.vwap(open=\"开盘\",high=\"最高\",low=\"最低\",close='收盘',price=\"最新价\",volume='成交量', length=1,append=True)\n",
    "  # df.ta.rsi(open=\"开盘\",high=\"最高\",low=\"最低\",close='收盘',volume='成交量', length=1,append=True)\n",
    "  return df\n",
    "# columns =['时间'  ,   '开盘'    , '收盘'    , '最高'   ,  '最低'   , '成交量'  , 'ROC_1'  ,   'CMF_1'  ,    'OBV'   ]\n",
    "# print(ta_ind('300141')[columns])\n",
    "# print(ta_ind('300114')[columns])\n",
    "stock_symbol_list =['300141','300114','300177','300713','300391','600686']\n",
    "stock_name_list =['和顺电气','中航电测','中海达','英可瑞','长药控股','金龙汽车']\n",
    "stock_state_list=['冲高回落','冲高回落','震荡','高举高打','冲高回落','跟风涨停']\n",
    "data_list =[ ta_ind(symbol) for symbol in stock_symbol_list]\n",
    "\n",
    "new_df = None\n",
    "for symbol,name,state,data in zip(stock_symbol_list,stock_name_list,stock_state_list,data_list):\n",
    "  # print(f\"--{symbol} {name} {state}--------------------------------\")\n",
    "  # display(Markdown(data.to_markdown(index=False)))\n",
    "  data['代码']=symbol\n",
    "  data['名称']=name\n",
    "  data['走势']=state\n",
    "  if new_df is None:\n",
    "    new_df = data.tail(1)\n",
    "  else:\n",
    "    new_df = pd.concat([new_df, data.tail(1)])    \n",
    "\n",
    "new_df = new_df.sort_values(by='ROC_X_CMF', ascending=False)\n",
    "\n",
    "columns=['代码' ,   '名称'  , '走势','时间','开盘' ,'OBV_DIR'   , '收盘'    , '最高'   ,  '最低'   , '成交量', 'ROC_2','CMF_2', 'ROC'   ,    'CMF' , 'ROC_X_CMF']\n",
    "# print(new_df[columns])\n",
    "display(Markdown(new_df[columns].to_markdown(index=False)))"
   ]
  },
  {
   "cell_type": "code",
   "execution_count": 62,
   "metadata": {},
   "outputs": [
    {
     "name": "stdout",
     "output_type": "stream",
     "text": [
      "--300141 和顺电气 冲高回落--------------------------------\n"
     ]
    },
    {
     "data": {
      "text/markdown": [
       "|   开盘 |   收盘 |   最高 |   最低 |   成交量 |      成交额 |   最新价 |    ROC_1 |     CMF_1 |   OBV |      ROC |       CMF | CMF_GT_0   |   OBV_DIR |   ROC_X_CMF |\n",
       "|-------:|-------:|-------:|-------:|---------:|------------:|---------:|---------:|----------:|------:|---------:|----------:|:-----------|----------:|------------:|\n",
       "|    8.8 |   9.48 |   9.99 |    8.8 |    29358 | 2.72194e+07 |    9.202 | 9.72222  |  0.142857 | 32977 | 9.72222  |  0.142857 | True       |         1 |   1.38889   |\n",
       "|    9.4 |   9.49 |   9.85 |    9.4 |    32642 | 3.13137e+07 |    9.397 | 0.105485 | -0.6      | 65619 | 0.105485 | -0.6      | False      |         1 |  -0.0632911 |"
      ],
      "text/plain": [
       "<IPython.core.display.Markdown object>"
      ]
     },
     "metadata": {},
     "output_type": "display_data"
    },
    {
     "name": "stdout",
     "output_type": "stream",
     "text": [
      "--300114 中航电测 冲高回落--------------------------------\n"
     ]
    },
    {
     "data": {
      "text/markdown": [
       "|   开盘 |   收盘 |   最高 |   最低 |   成交量 |      成交额 |   最新价 |    ROC_1 |     CMF_1 |   OBV |      ROC |       CMF | CMF_GT_0   |   OBV_DIR |   ROC_X_CMF |\n",
       "|-------:|-------:|-------:|-------:|---------:|------------:|---------:|---------:|----------:|------:|---------:|----------:|:-----------|----------:|------------:|\n",
       "|  50.02 |  52.88 |  52.88 |  49.07 |    43629 | 2.21562e+08 |   50.572 | 5.76     |  1        | 43629 | 5.76     |  1        | True       |         1 |    5.76     |\n",
       "|  52.88 |  53    |  54.44 |  52.88 |    26051 | 1.39834e+08 |   51.515 | 0.226929 | -0.846154 | 69680 | 0.226929 | -0.846154 | False      |         1 |   -0.192017 |"
      ],
      "text/plain": [
       "<IPython.core.display.Markdown object>"
      ]
     },
     "metadata": {},
     "output_type": "display_data"
    },
    {
     "name": "stdout",
     "output_type": "stream",
     "text": [
      "--300177 中海达 震荡--------------------------------\n"
     ]
    },
    {
     "data": {
      "text/markdown": [
       "|   开盘 |   收盘 |   最高 |   最低 |   成交量 |      成交额 |   最新价 |   ROC_1 |    CMF_1 |   OBV |     ROC |      CMF | CMF_GT_0   |   OBV_DIR |   ROC_X_CMF |\n",
       "|-------:|-------:|-------:|-------:|---------:|------------:|---------:|--------:|---------:|------:|--------:|---------:|:-----------|----------:|------------:|\n",
       "|   6.68 |   6.9  |   6.94 |   6.66 |    48503 | 3.30003e+07 |    6.789 | 2.83159 | 0.714286 | 39649 | 2.83159 | 0.714286 | True       |         1 |     2.02257 |\n",
       "|   6.92 |   7.03 |   7.04 |   6.92 |    55569 | 3.86986e+07 |    6.875 | 1.88406 | 0.833333 | 95218 | 1.88406 | 0.833333 | True       |         1 |     1.57005 |"
      ],
      "text/plain": [
       "<IPython.core.display.Markdown object>"
      ]
     },
     "metadata": {},
     "output_type": "display_data"
    },
    {
     "name": "stdout",
     "output_type": "stream",
     "text": [
      "--300713 英可瑞 高举高打--------------------------------\n"
     ]
    },
    {
     "data": {
      "text/markdown": [
       "|   开盘 |   收盘 |   最高 |   最低 |   成交量 |      成交额 |   最新价 |    ROC_1 |     CMF_1 |    OBV |      ROC |       CMF | CMF_GT_0   |   OBV_DIR |   ROC_X_CMF |\n",
       "|-------:|-------:|-------:|-------:|---------:|------------:|---------:|---------:|----------:|-------:|---------:|----------:|:-----------|----------:|------------:|\n",
       "|  14.78 |  14.49 |  15.13 |  14.41 |    42459 | 6.27172e+07 |   14.782 | -2.22672 | -0.777778 | -54781 | -2.22672 | -0.777778 | False      |        -1 |     1.73189 |\n",
       "|  14.49 |  15.46 |  15.46 |  14.49 |    33856 | 5.1148e+07  |   14.907 |  6.69427 |  1        | -20925 |  6.69427 |  1        | True       |        -1 |     6.69427 |"
      ],
      "text/plain": [
       "<IPython.core.display.Markdown object>"
      ]
     },
     "metadata": {},
     "output_type": "display_data"
    },
    {
     "name": "stdout",
     "output_type": "stream",
     "text": [
      "--300391 长药控股 冲高回落--------------------------------\n"
     ]
    },
    {
     "data": {
      "text/markdown": [
       "|   开盘 |   收盘 |   最高 |   最低 |   成交量 |      成交额 |   最新价 |    ROC_1 |     CMF_1 |    OBV |      ROC |       CMF | CMF_GT_0   |   OBV_DIR |   ROC_X_CMF |\n",
       "|-------:|-------:|-------:|-------:|---------:|------------:|---------:|---------:|----------:|-------:|---------:|----------:|:-----------|----------:|------------:|\n",
       "|   5.69 |   5.59 |   5.72 |   5.5  |    36483 | 2.05732e+07 |    5.673 | -2.78261 | -0.181818 | -36483 | -2.78261 | -0.181818 | False      |        -1 |    0.505929 |\n",
       "|   5.67 |   5.85 |   5.88 |   5.57 |    26411 | 1.50265e+07 |    5.679 |  4.65116 |  0.806452 | -10072 |  4.65116 |  0.806452 | True       |        -1 |    3.75094  |"
      ],
      "text/plain": [
       "<IPython.core.display.Markdown object>"
      ]
     },
     "metadata": {},
     "output_type": "display_data"
    },
    {
     "name": "stdout",
     "output_type": "stream",
     "text": [
      "--600686 金龙汽车 跟风涨停--------------------------------\n"
     ]
    },
    {
     "data": {
      "text/markdown": [
       "|   开盘 |   收盘 |   最高 |   最低 |   成交量 |      成交额 |   最新价 |     ROC_1 |     CMF_1 |   OBV |       ROC |       CMF | CMF_GT_0   |   OBV_DIR |   ROC_X_CMF |\n",
       "|-------:|-------:|-------:|-------:|---------:|------------:|---------:|----------:|----------:|------:|----------:|----------:|:-----------|----------:|------------:|\n",
       "|   8.46 |   8.68 |   8.73 |   8.35 |    51438 | 4.39261e+07 |    8.524 |  2.72189  |  0.736842 | 51438 |  2.72189  |  0.736842 | True       |         1 |    2.00561  |\n",
       "|   8.72 |   8.64 |   8.75 |   8.58 |    28343 | 2.4509e+07  |    8.562 | -0.460829 | -0.294118 | 23095 | -0.460829 | -0.294118 | False      |         1 |    0.135538 |"
      ],
      "text/plain": [
       "<IPython.core.display.Markdown object>"
      ]
     },
     "metadata": {},
     "output_type": "display_data"
    },
    {
     "data": {
      "text/markdown": [
       "|   代码 | 名称     | 走势     |   开盘 |   OBV_DIR |   收盘 |   最高 |   最低 |   成交量 |     ROC_1 |     CMF_1 |       ROC |       CMF |   ROC_X_CMF |\n",
       "|-------:|:---------|:---------|-------:|----------:|-------:|-------:|-------:|---------:|----------:|----------:|----------:|----------:|------------:|\n",
       "| 300713 | 英可瑞   | 高举高打 |  14.49 |        -1 |  15.46 |  15.46 |  14.49 |    33856 |  6.69427  |  1        |  6.69427  |  1        |   6.69427   |\n",
       "| 300391 | 长药控股 | 冲高回落 |   5.67 |        -1 |   5.85 |   5.88 |   5.57 |    26411 |  4.65116  |  0.806452 |  4.65116  |  0.806452 |   3.75094   |\n",
       "| 300177 | 中海达   | 震荡     |   6.92 |         1 |   7.03 |   7.04 |   6.92 |    55569 |  1.88406  |  0.833333 |  1.88406  |  0.833333 |   1.57005   |\n",
       "| 600686 | 金龙汽车 | 跟风涨停 |   8.72 |         1 |   8.64 |   8.75 |   8.58 |    28343 | -0.460829 | -0.294118 | -0.460829 | -0.294118 |   0.135538  |\n",
       "| 300141 | 和顺电气 | 冲高回落 |   9.4  |         1 |   9.49 |   9.85 |   9.4  |    32642 |  0.105485 | -0.6      |  0.105485 | -0.6      |  -0.0632911 |\n",
       "| 300114 | 中航电测 | 冲高回落 |  52.88 |         1 |  53    |  54.44 |  52.88 |    26051 |  0.226929 | -0.846154 |  0.226929 | -0.846154 |  -0.192017  |"
      ],
      "text/plain": [
       "<IPython.core.display.Markdown object>"
      ]
     },
     "metadata": {},
     "output_type": "display_data"
    }
   ],
   "source": [
    "pd.set_option('display.width',3000)\n",
    "pd.set_option('display.max_columns',100)\n",
    "pd.set_option('display.html.table.schema',True)\n",
    "pd.set_option('display.max_columns',100)\n",
    "def ta_ind(symbol:str):\n",
    "  df = ak.stock_zh_a_hist_pre_min_em(symbol=symbol, start_time=\"09:00:00\", end_time=\"09:32:00\")\n",
    "\n",
    "  df['时间'] = pd.to_datetime(df['时间'])\n",
    "  df = df.set_index('时间',drop=True)\n",
    "  df.ta.roc(close='收盘',volume='成交量', length=1,append=True)\n",
    "  df.ta.cmf(open=\"开盘\",high=\"最高\",low=\"最低\",close='收盘',volume='成交量', length=1,append=True)\n",
    "  df.ta.obv(close='收盘',volume='成交量', length=1,append=True)\n",
    "  df['ROC']=df['ROC_1'] # - df['ROC_1'].shift(1)\n",
    "  df['CMF']=df['CMF_1'] #- df['CMF_1'].shift(1)\n",
    "  df['CMF_GT_0']=df['CMF'] >= 0\n",
    "  df['OBV_DIR']=df['OBV'] / abs(df['OBV']) \n",
    "  # df['ROC_2'] - df['ROC_2'].shift(1)\n",
    "  # df['ROC_X_CMF']=df['ROC'] * df['CMF'] * df['OBV_DIR'] \n",
    "  df['ROC_X_CMF']=df['ROC'] * df['CMF'] \n",
    "  # df.ta.vwap(open=\"开盘\",high=\"最高\",low=\"最低\",close='收盘',price=\"最新价\",volume='成交量', length=1,append=True)\n",
    "  # df.ta.rsi(open=\"开盘\",high=\"最高\",low=\"最低\",close='收盘',volume='成交量', length=1,append=True)\n",
    "  return df\n",
    "# columns =['时间'  ,   '开盘'    , '收盘'    , '最高'   ,  '最低'   , '成交量'  , 'ROC_1'  ,   'CMF_1'  ,    'OBV'   ]\n",
    "# print(ta_ind('300141')[columns])\n",
    "# print(ta_ind('300114')[columns])\n",
    "stock_symbol_list =['300141','300114','300177','300713','300391','600686']\n",
    "stock_name_list =['和顺电气','中航电测','中海达','英可瑞','长药控股','金龙汽车']\n",
    "stock_state_list=['冲高回落','冲高回落','震荡','高举高打','冲高回落','跟风涨停']\n",
    "data_list =[ ta_ind(symbol) for symbol in stock_symbol_list]\n",
    "\n",
    "new_df = None\n",
    "for symbol,name,state,data in zip(stock_symbol_list,stock_name_list,stock_state_list,data_list):\n",
    "  print(f\"--{symbol} {name} {state}--------------------------------\")\n",
    "  display(Markdown(data.tail(2).to_markdown(index=False)))\n",
    "  data['代码']=symbol\n",
    "  data['名称']=name\n",
    "  data['走势']=state\n",
    "  if new_df is None:\n",
    "    new_df = data.tail(1)\n",
    "  else:\n",
    "    new_df = pd.concat([new_df, data.tail(1)])    \n",
    "\n",
    "# new_df = new_df.sort_values(by='ROC_X_CMF', ascending=False)\n",
    "new_df = new_df.sort_values(by=['CMF_GT_0','ROC_X_CMF'], ascending=[False,False])\n",
    "\n",
    "columns=['代码' ,   '名称'  , '走势','开盘' ,'OBV_DIR'   , '收盘'    , '最高'   ,  '最低'   , '成交量', 'ROC_1','CMF_1', 'ROC'   ,    'CMF' , 'ROC_X_CMF']\n",
    "# print(new_df[columns])\n",
    "display(Markdown(new_df[columns].to_markdown(index=False)))"
   ]
  },
  {
   "cell_type": "code",
   "execution_count": 3,
   "metadata": {},
   "outputs": [
    {
     "ename": "NameError",
     "evalue": "name 'volume_up_and_price_up' is not defined",
     "output_type": "error",
     "traceback": [
      "\u001b[0;31m---------------------------------------------------------------------------\u001b[0m",
      "\u001b[0;31mNameError\u001b[0m                                 Traceback (most recent call last)",
      "Cell \u001b[0;32mIn[3], line 26\u001b[0m\n\u001b[1;32m     15\u001b[0m df \u001b[38;5;241m=\u001b[39m df\u001b[38;5;241m.\u001b[39mwhere(df[\u001b[38;5;124m'\u001b[39m\u001b[38;5;124mopen_up\u001b[39m\u001b[38;5;124m'\u001b[39m], np\u001b[38;5;241m.\u001b[39mnan)\u001b[38;5;241m.\u001b[39mdropna(\n\u001b[1;32m     16\u001b[0m     subset\u001b[38;5;241m=\u001b[39m[\u001b[38;5;124m'\u001b[39m\u001b[38;5;124mopen_up\u001b[39m\u001b[38;5;124m'\u001b[39m])\n\u001b[1;32m     18\u001b[0m \u001b[38;5;66;03m# df['量比大于2'] = df['量比'] >= 1.2\u001b[39;00m\n\u001b[1;32m     19\u001b[0m \u001b[38;5;66;03m# df = df.where(df['量比大于2'], np.nan).dropna(\u001b[39;00m\n\u001b[1;32m     20\u001b[0m \u001b[38;5;66;03m#     subset=['量比大于2'])\u001b[39;00m\n\u001b[0;32m   (...)\u001b[0m\n\u001b[1;32m     23\u001b[0m \u001b[38;5;66;03m# df = df.where(df['60日涨跌幅大于0'], np.nan).dropna(\u001b[39;00m\n\u001b[1;32m     24\u001b[0m \u001b[38;5;66;03m#     subset=['60日涨跌幅大于0'])\u001b[39;00m\n\u001b[0;32m---> 26\u001b[0m df[\u001b[38;5;124m'\u001b[39m\u001b[38;5;124mvolume_up_and_price_up\u001b[39m\u001b[38;5;124m'\u001b[39m] \u001b[38;5;241m=\u001b[39m df[\u001b[38;5;124m'\u001b[39m\u001b[38;5;124m代码\u001b[39m\u001b[38;5;124m'\u001b[39m]\u001b[38;5;241m.\u001b[39mapply(\u001b[43mvolume_up_and_price_up\u001b[49m)\n\u001b[1;32m     27\u001b[0m df \u001b[38;5;241m=\u001b[39m df\u001b[38;5;241m.\u001b[39mwhere(df[\u001b[38;5;124m'\u001b[39m\u001b[38;5;124mvolume_up_and_price_up\u001b[39m\u001b[38;5;124m'\u001b[39m], np\u001b[38;5;241m.\u001b[39mnan)\u001b[38;5;241m.\u001b[39mdropna(\n\u001b[1;32m     28\u001b[0m     subset\u001b[38;5;241m=\u001b[39m[\u001b[38;5;124m'\u001b[39m\u001b[38;5;124mvolume_up_and_price_up\u001b[39m\u001b[38;5;124m'\u001b[39m])\n\u001b[1;32m     29\u001b[0m \u001b[38;5;66;03m# print(df[['代码','名称','昨收','今开','最高','最低','最新价','涨跌幅','成交额','量比','振幅']])\u001b[39;00m\n\u001b[1;32m     30\u001b[0m \u001b[38;5;66;03m# print(df[['代码','名称','昨收','今开','最新价','涨跌幅','成交额','量比','振幅']])\u001b[39;00m\n",
      "\u001b[0;31mNameError\u001b[0m: name 'volume_up_and_price_up' is not defined"
     ]
    }
   ],
   "source": [
    "\n",
    "df = ak.stock_zh_a_spot_em()\n",
    "# 两市剔除ST股、剔除科创板股、剔除北交所股\n",
    "df = df[~df['代码'].astype(str).str.startswith('4')]\n",
    "df = df[~df['代码'].astype(str).str.startswith('8')]\n",
    "df = df[~df['代码'].astype(str).str.startswith('68')]\n",
    "df = df[~df['名称'].astype(str).str.startswith('N')]\n",
    "df = df[~df['名称'].astype(str).str.startswith('*')]\n",
    "df = df[~df['名称'].astype(str).str.startswith('ST')]\n",
    "# 按成交额降序排序，选出开盘金额最大前N只股\n",
    "df = df.sort_values(by='成交额', ascending=False)\n",
    "df = df.head(200)\n",
    "df['代码'] = df['代码'].astype(str).str[:6]\n",
    "\n",
    "df['open_up'] = df['今开'] >0.8 * df['昨收']\n",
    "df = df.where(df['open_up'], np.nan).dropna(\n",
    "    subset=['open_up'])\n",
    "\n",
    "# df['量比大于2'] = df['量比'] >= 1.2\n",
    "# df = df.where(df['量比大于2'], np.nan).dropna(\n",
    "#     subset=['量比大于2'])\n",
    "\n",
    "# df['60日涨跌幅大于0'] = df['60日涨跌幅'] > 0\n",
    "# df = df.where(df['60日涨跌幅大于0'], np.nan).dropna(\n",
    "#     subset=['60日涨跌幅大于0'])\n",
    "\n",
    "df['volume_up_and_price_up'] = df['代码'].apply(volume_up_and_price_up)\n",
    "df = df.where(df['volume_up_and_price_up'], np.nan).dropna(\n",
    "    subset=['volume_up_and_price_up'])\n",
    "# print(df[['代码','名称','昨收','今开','最高','最低','最新价','涨跌幅','成交额','量比','振幅']])\n",
    "# print(df[['代码','名称','昨收','今开','最新价','涨跌幅','成交额','量比','振幅']])\n",
    "df[\"ok\"] = df['最新价'] > df['今开']\n",
    "print(df[['代码','名称','ok','昨收','今开','最新价','涨跌幅','成交额']])"
   ]
  }
 ],
 "metadata": {
  "kernelspec": {
   "display_name": "sequoia39",
   "language": "python",
   "name": "python3"
  },
  "language_info": {
   "codemirror_mode": {
    "name": "ipython",
    "version": 3
   },
   "file_extension": ".py",
   "mimetype": "text/x-python",
   "name": "python",
   "nbconvert_exporter": "python",
   "pygments_lexer": "ipython3",
   "version": "3.9.19"
  }
 },
 "nbformat": 4,
 "nbformat_minor": 2
}
